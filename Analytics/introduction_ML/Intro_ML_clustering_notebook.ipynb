{
  "nbformat": 4,
  "nbformat_minor": 0,
  "metadata": {
    "colab": {
      "name": "Intro_ML.ipynb",
      "provenance": [],
      "collapsed_sections": [],
      "toc_visible": true
    },
    "kernelspec": {
      "name": "python3",
      "display_name": "Python 3"
    },
    "language_info": {
      "name": "python"
    }
  },
  "cells": [
    {
      "cell_type": "markdown",
      "source": [
        "\n",
        "# Introduction\n",
        "\n",
        "Le machine learning consiste à faire ingérer des données par un ordinateur à travers des calculs statistiques pour identifier des schémas récurrents.\n",
        "\n",
        "Cette ingestion peut-être supervisée, on donne à l'ordinateur la cible à atteindre ; ou non supervisée, l'ordinateur étudiera les caractéristiques des différentes données et proposera des cibles de réponse.\n",
        "\n",
        "Il existe 2 grands types d'algorythmes en machine learning :\n",
        "**La classification**, dont l'objectif est de prédire l'appartenance à une catégorie.\n",
        "**La regression**, dont l'obectif est de déterminer une loi mathématique à partir d'une tendance, c'est la corrélation.\n",
        "\n",
        "Dans ce notebook, nous allons découvrir les 2 grands types d'algorithmes pour un cas d'usage RH. Ce dernier ayant une finalité pédagogique, il est délibérément grossier.\n",
        "\n",
        "# Description du cas\n",
        "\n",
        "Vous êtes People Analyst de la société Michu, qui fabrique des casseroles dans le Jura.\n",
        "Votre campagne d'entretien annuelle est terminée. De chacun des managers vous avez obtenu :\n",
        "\n",
        "- Les évaluations sur les soft skills, les hard skills, et la performance globale,\n",
        "- La distribution d'une prime de 2000€ pour performance exceptionnelle à la discrétion du manager,\n",
        "- La répartition des augmentations individuelles sur l'année.\n",
        "\n",
        "Bien entendu, il vous faut vérifier que les données sont cohérentes.\n",
        "\n",
        "Nous allons donc commencer par explorer les données."
      ],
      "metadata": {
        "id": "iceH_jVQ4EXa"
      }
    },
    {
      "cell_type": "code",
      "execution_count": 38,
      "metadata": {
        "id": "1c5dqyrziXIJ"
      },
      "outputs": [],
      "source": [
        "import pandas as pd\n",
        "import numpy as np\n",
        "import seaborn as sns\n",
        "import matplotlib.pylab as plt\n",
        "import matplotlib.patches as mpatches\n",
        "\n",
        "data =\"https://raw.githubusercontent.com/ArnaudCoulon/MyPeopleAnalytics.fr/main/Analytics/introduction_ML/Database_intro_ML.csv\"\n",
        "\n",
        "df = pd.read_csv(data)"
      ]
    },
    {
      "cell_type": "code",
      "source": [
        "print(df.shape)\n",
        "print()\n",
        "print(df.dtypes)"
      ],
      "metadata": {
        "colab": {
          "base_uri": "https://localhost:8080/"
        },
        "id": "fx6uYOi3n4M0",
        "outputId": "b42c4c27-ff05-4fcc-b8ef-41d38affbd04"
      },
      "execution_count": 2,
      "outputs": [
        {
          "output_type": "stream",
          "name": "stdout",
          "text": [
            "(500, 8)\n",
            "\n",
            "Matricule                   object\n",
            "Emploi                      object\n",
            "Performance globale        float64\n",
            "Performance hard skills      int64\n",
            "Performance soft skills      int64\n",
            "Rémunération               float64\n",
            "Prime 2000€                  int64\n",
            "Augmentation               float64\n",
            "dtype: object\n"
          ]
        }
      ]
    },
    {
      "cell_type": "code",
      "source": [
        "df.head()"
      ],
      "metadata": {
        "colab": {
          "base_uri": "https://localhost:8080/",
          "height": 206
        },
        "id": "bsMpmQOtlmns",
        "outputId": "a41076d5-3d51-48e3-f42c-37dc5ca75131"
      },
      "execution_count": 3,
      "outputs": [
        {
          "output_type": "execute_result",
          "data": {
            "text/html": [
              "\n",
              "  <div id=\"df-80147bea-944b-418d-aede-c268871c29ef\">\n",
              "    <div class=\"colab-df-container\">\n",
              "      <div>\n",
              "<style scoped>\n",
              "    .dataframe tbody tr th:only-of-type {\n",
              "        vertical-align: middle;\n",
              "    }\n",
              "\n",
              "    .dataframe tbody tr th {\n",
              "        vertical-align: top;\n",
              "    }\n",
              "\n",
              "    .dataframe thead th {\n",
              "        text-align: right;\n",
              "    }\n",
              "</style>\n",
              "<table border=\"1\" class=\"dataframe\">\n",
              "  <thead>\n",
              "    <tr style=\"text-align: right;\">\n",
              "      <th></th>\n",
              "      <th>Matricule</th>\n",
              "      <th>Emploi</th>\n",
              "      <th>Performance globale</th>\n",
              "      <th>Performance hard skills</th>\n",
              "      <th>Performance soft skills</th>\n",
              "      <th>Rémunération</th>\n",
              "      <th>Prime 2000€</th>\n",
              "      <th>Augmentation</th>\n",
              "    </tr>\n",
              "  </thead>\n",
              "  <tbody>\n",
              "    <tr>\n",
              "      <th>0</th>\n",
              "      <td>A001</td>\n",
              "      <td>Administratif</td>\n",
              "      <td>2.0</td>\n",
              "      <td>3</td>\n",
              "      <td>1</td>\n",
              "      <td>1964.872127</td>\n",
              "      <td>0</td>\n",
              "      <td>2.016283</td>\n",
              "    </tr>\n",
              "    <tr>\n",
              "      <th>1</th>\n",
              "      <td>A002</td>\n",
              "      <td>Administratif</td>\n",
              "      <td>5.0</td>\n",
              "      <td>5</td>\n",
              "      <td>5</td>\n",
              "      <td>2149.034296</td>\n",
              "      <td>1</td>\n",
              "      <td>5.468552</td>\n",
              "    </tr>\n",
              "    <tr>\n",
              "      <th>2</th>\n",
              "      <td>A003</td>\n",
              "      <td>Administratif</td>\n",
              "      <td>2.5</td>\n",
              "      <td>2</td>\n",
              "      <td>3</td>\n",
              "      <td>1986.824596</td>\n",
              "      <td>0</td>\n",
              "      <td>2.612227</td>\n",
              "    </tr>\n",
              "    <tr>\n",
              "      <th>3</th>\n",
              "      <td>A004</td>\n",
              "      <td>Administratif</td>\n",
              "      <td>4.0</td>\n",
              "      <td>5</td>\n",
              "      <td>3</td>\n",
              "      <td>2071.828183</td>\n",
              "      <td>0</td>\n",
              "      <td>5.146593</td>\n",
              "    </tr>\n",
              "    <tr>\n",
              "      <th>4</th>\n",
              "      <td>A005</td>\n",
              "      <td>Administratif</td>\n",
              "      <td>2.0</td>\n",
              "      <td>1</td>\n",
              "      <td>3</td>\n",
              "      <td>1964.872127</td>\n",
              "      <td>0</td>\n",
              "      <td>2.833823</td>\n",
              "    </tr>\n",
              "  </tbody>\n",
              "</table>\n",
              "</div>\n",
              "      <button class=\"colab-df-convert\" onclick=\"convertToInteractive('df-80147bea-944b-418d-aede-c268871c29ef')\"\n",
              "              title=\"Convert this dataframe to an interactive table.\"\n",
              "              style=\"display:none;\">\n",
              "        \n",
              "  <svg xmlns=\"http://www.w3.org/2000/svg\" height=\"24px\"viewBox=\"0 0 24 24\"\n",
              "       width=\"24px\">\n",
              "    <path d=\"M0 0h24v24H0V0z\" fill=\"none\"/>\n",
              "    <path d=\"M18.56 5.44l.94 2.06.94-2.06 2.06-.94-2.06-.94-.94-2.06-.94 2.06-2.06.94zm-11 1L8.5 8.5l.94-2.06 2.06-.94-2.06-.94L8.5 2.5l-.94 2.06-2.06.94zm10 10l.94 2.06.94-2.06 2.06-.94-2.06-.94-.94-2.06-.94 2.06-2.06.94z\"/><path d=\"M17.41 7.96l-1.37-1.37c-.4-.4-.92-.59-1.43-.59-.52 0-1.04.2-1.43.59L10.3 9.45l-7.72 7.72c-.78.78-.78 2.05 0 2.83L4 21.41c.39.39.9.59 1.41.59.51 0 1.02-.2 1.41-.59l7.78-7.78 2.81-2.81c.8-.78.8-2.07 0-2.86zM5.41 20L4 18.59l7.72-7.72 1.47 1.35L5.41 20z\"/>\n",
              "  </svg>\n",
              "      </button>\n",
              "      \n",
              "  <style>\n",
              "    .colab-df-container {\n",
              "      display:flex;\n",
              "      flex-wrap:wrap;\n",
              "      gap: 12px;\n",
              "    }\n",
              "\n",
              "    .colab-df-convert {\n",
              "      background-color: #E8F0FE;\n",
              "      border: none;\n",
              "      border-radius: 50%;\n",
              "      cursor: pointer;\n",
              "      display: none;\n",
              "      fill: #1967D2;\n",
              "      height: 32px;\n",
              "      padding: 0 0 0 0;\n",
              "      width: 32px;\n",
              "    }\n",
              "\n",
              "    .colab-df-convert:hover {\n",
              "      background-color: #E2EBFA;\n",
              "      box-shadow: 0px 1px 2px rgba(60, 64, 67, 0.3), 0px 1px 3px 1px rgba(60, 64, 67, 0.15);\n",
              "      fill: #174EA6;\n",
              "    }\n",
              "\n",
              "    [theme=dark] .colab-df-convert {\n",
              "      background-color: #3B4455;\n",
              "      fill: #D2E3FC;\n",
              "    }\n",
              "\n",
              "    [theme=dark] .colab-df-convert:hover {\n",
              "      background-color: #434B5C;\n",
              "      box-shadow: 0px 1px 3px 1px rgba(0, 0, 0, 0.15);\n",
              "      filter: drop-shadow(0px 1px 2px rgba(0, 0, 0, 0.3));\n",
              "      fill: #FFFFFF;\n",
              "    }\n",
              "  </style>\n",
              "\n",
              "      <script>\n",
              "        const buttonEl =\n",
              "          document.querySelector('#df-80147bea-944b-418d-aede-c268871c29ef button.colab-df-convert');\n",
              "        buttonEl.style.display =\n",
              "          google.colab.kernel.accessAllowed ? 'block' : 'none';\n",
              "\n",
              "        async function convertToInteractive(key) {\n",
              "          const element = document.querySelector('#df-80147bea-944b-418d-aede-c268871c29ef');\n",
              "          const dataTable =\n",
              "            await google.colab.kernel.invokeFunction('convertToInteractive',\n",
              "                                                     [key], {});\n",
              "          if (!dataTable) return;\n",
              "\n",
              "          const docLinkHtml = 'Like what you see? Visit the ' +\n",
              "            '<a target=\"_blank\" href=https://colab.research.google.com/notebooks/data_table.ipynb>data table notebook</a>'\n",
              "            + ' to learn more about interactive tables.';\n",
              "          element.innerHTML = '';\n",
              "          dataTable['output_type'] = 'display_data';\n",
              "          await google.colab.output.renderOutput(dataTable, element);\n",
              "          const docLink = document.createElement('div');\n",
              "          docLink.innerHTML = docLinkHtml;\n",
              "          element.appendChild(docLink);\n",
              "        }\n",
              "      </script>\n",
              "    </div>\n",
              "  </div>\n",
              "  "
            ],
            "text/plain": [
              "  Matricule         Emploi  ...  Prime 2000€  Augmentation\n",
              "0      A001  Administratif  ...            0      2.016283\n",
              "1      A002  Administratif  ...            1      5.468552\n",
              "2      A003  Administratif  ...            0      2.612227\n",
              "3      A004  Administratif  ...            0      5.146593\n",
              "4      A005  Administratif  ...            0      2.833823\n",
              "\n",
              "[5 rows x 8 columns]"
            ]
          },
          "metadata": {},
          "execution_count": 3
        }
      ]
    },
    {
      "cell_type": "code",
      "source": [
        "# Affichage des statistiques descriptives\n",
        "# La prime étant une donnée catégorielle, ces données ne sont pas exploitables.\n",
        "df.describe().T"
      ],
      "metadata": {
        "id": "yoZKHxTGnBEC",
        "colab": {
          "base_uri": "https://localhost:8080/",
          "height": 238
        },
        "outputId": "0c8d93ff-6fe8-471e-eaa0-baf49f4a0664"
      },
      "execution_count": 4,
      "outputs": [
        {
          "output_type": "execute_result",
          "data": {
            "text/html": [
              "\n",
              "  <div id=\"df-f0d4f106-966e-4c5d-aaf1-819c3a0ffbc4\">\n",
              "    <div class=\"colab-df-container\">\n",
              "      <div>\n",
              "<style scoped>\n",
              "    .dataframe tbody tr th:only-of-type {\n",
              "        vertical-align: middle;\n",
              "    }\n",
              "\n",
              "    .dataframe tbody tr th {\n",
              "        vertical-align: top;\n",
              "    }\n",
              "\n",
              "    .dataframe thead th {\n",
              "        text-align: right;\n",
              "    }\n",
              "</style>\n",
              "<table border=\"1\" class=\"dataframe\">\n",
              "  <thead>\n",
              "    <tr style=\"text-align: right;\">\n",
              "      <th></th>\n",
              "      <th>count</th>\n",
              "      <th>mean</th>\n",
              "      <th>std</th>\n",
              "      <th>min</th>\n",
              "      <th>25%</th>\n",
              "      <th>50%</th>\n",
              "      <th>75%</th>\n",
              "      <th>max</th>\n",
              "    </tr>\n",
              "  </thead>\n",
              "  <tbody>\n",
              "    <tr>\n",
              "      <th>Performance globale</th>\n",
              "      <td>500.0</td>\n",
              "      <td>2.556500</td>\n",
              "      <td>1.293650</td>\n",
              "      <td>0.0</td>\n",
              "      <td>1.500000</td>\n",
              "      <td>2.500000</td>\n",
              "      <td>3.500000</td>\n",
              "      <td>5.000000</td>\n",
              "    </tr>\n",
              "    <tr>\n",
              "      <th>Performance hard skills</th>\n",
              "      <td>500.0</td>\n",
              "      <td>2.490000</td>\n",
              "      <td>1.768659</td>\n",
              "      <td>0.0</td>\n",
              "      <td>1.000000</td>\n",
              "      <td>3.000000</td>\n",
              "      <td>4.000000</td>\n",
              "      <td>5.000000</td>\n",
              "    </tr>\n",
              "    <tr>\n",
              "      <th>Performance soft skills</th>\n",
              "      <td>500.0</td>\n",
              "      <td>2.602000</td>\n",
              "      <td>1.695094</td>\n",
              "      <td>0.0</td>\n",
              "      <td>1.000000</td>\n",
              "      <td>3.000000</td>\n",
              "      <td>4.000000</td>\n",
              "      <td>5.000000</td>\n",
              "    </tr>\n",
              "    <tr>\n",
              "      <th>Rémunération</th>\n",
              "      <td>500.0</td>\n",
              "      <td>2955.150503</td>\n",
              "      <td>1386.633661</td>\n",
              "      <td>1900.0</td>\n",
              "      <td>2011.700002</td>\n",
              "      <td>2378.443523</td>\n",
              "      <td>3098.903106</td>\n",
              "      <td>7294.490050</td>\n",
              "    </tr>\n",
              "    <tr>\n",
              "      <th>Prime 2000€</th>\n",
              "      <td>500.0</td>\n",
              "      <td>0.112000</td>\n",
              "      <td>0.315682</td>\n",
              "      <td>0.0</td>\n",
              "      <td>0.000000</td>\n",
              "      <td>0.000000</td>\n",
              "      <td>0.000000</td>\n",
              "      <td>1.000000</td>\n",
              "    </tr>\n",
              "    <tr>\n",
              "      <th>Augmentation</th>\n",
              "      <td>500.0</td>\n",
              "      <td>2.647325</td>\n",
              "      <td>2.005220</td>\n",
              "      <td>0.0</td>\n",
              "      <td>0.000000</td>\n",
              "      <td>3.041748</td>\n",
              "      <td>4.040799</td>\n",
              "      <td>6.746705</td>\n",
              "    </tr>\n",
              "  </tbody>\n",
              "</table>\n",
              "</div>\n",
              "      <button class=\"colab-df-convert\" onclick=\"convertToInteractive('df-f0d4f106-966e-4c5d-aaf1-819c3a0ffbc4')\"\n",
              "              title=\"Convert this dataframe to an interactive table.\"\n",
              "              style=\"display:none;\">\n",
              "        \n",
              "  <svg xmlns=\"http://www.w3.org/2000/svg\" height=\"24px\"viewBox=\"0 0 24 24\"\n",
              "       width=\"24px\">\n",
              "    <path d=\"M0 0h24v24H0V0z\" fill=\"none\"/>\n",
              "    <path d=\"M18.56 5.44l.94 2.06.94-2.06 2.06-.94-2.06-.94-.94-2.06-.94 2.06-2.06.94zm-11 1L8.5 8.5l.94-2.06 2.06-.94-2.06-.94L8.5 2.5l-.94 2.06-2.06.94zm10 10l.94 2.06.94-2.06 2.06-.94-2.06-.94-.94-2.06-.94 2.06-2.06.94z\"/><path d=\"M17.41 7.96l-1.37-1.37c-.4-.4-.92-.59-1.43-.59-.52 0-1.04.2-1.43.59L10.3 9.45l-7.72 7.72c-.78.78-.78 2.05 0 2.83L4 21.41c.39.39.9.59 1.41.59.51 0 1.02-.2 1.41-.59l7.78-7.78 2.81-2.81c.8-.78.8-2.07 0-2.86zM5.41 20L4 18.59l7.72-7.72 1.47 1.35L5.41 20z\"/>\n",
              "  </svg>\n",
              "      </button>\n",
              "      \n",
              "  <style>\n",
              "    .colab-df-container {\n",
              "      display:flex;\n",
              "      flex-wrap:wrap;\n",
              "      gap: 12px;\n",
              "    }\n",
              "\n",
              "    .colab-df-convert {\n",
              "      background-color: #E8F0FE;\n",
              "      border: none;\n",
              "      border-radius: 50%;\n",
              "      cursor: pointer;\n",
              "      display: none;\n",
              "      fill: #1967D2;\n",
              "      height: 32px;\n",
              "      padding: 0 0 0 0;\n",
              "      width: 32px;\n",
              "    }\n",
              "\n",
              "    .colab-df-convert:hover {\n",
              "      background-color: #E2EBFA;\n",
              "      box-shadow: 0px 1px 2px rgba(60, 64, 67, 0.3), 0px 1px 3px 1px rgba(60, 64, 67, 0.15);\n",
              "      fill: #174EA6;\n",
              "    }\n",
              "\n",
              "    [theme=dark] .colab-df-convert {\n",
              "      background-color: #3B4455;\n",
              "      fill: #D2E3FC;\n",
              "    }\n",
              "\n",
              "    [theme=dark] .colab-df-convert:hover {\n",
              "      background-color: #434B5C;\n",
              "      box-shadow: 0px 1px 3px 1px rgba(0, 0, 0, 0.15);\n",
              "      filter: drop-shadow(0px 1px 2px rgba(0, 0, 0, 0.3));\n",
              "      fill: #FFFFFF;\n",
              "    }\n",
              "  </style>\n",
              "\n",
              "      <script>\n",
              "        const buttonEl =\n",
              "          document.querySelector('#df-f0d4f106-966e-4c5d-aaf1-819c3a0ffbc4 button.colab-df-convert');\n",
              "        buttonEl.style.display =\n",
              "          google.colab.kernel.accessAllowed ? 'block' : 'none';\n",
              "\n",
              "        async function convertToInteractive(key) {\n",
              "          const element = document.querySelector('#df-f0d4f106-966e-4c5d-aaf1-819c3a0ffbc4');\n",
              "          const dataTable =\n",
              "            await google.colab.kernel.invokeFunction('convertToInteractive',\n",
              "                                                     [key], {});\n",
              "          if (!dataTable) return;\n",
              "\n",
              "          const docLinkHtml = 'Like what you see? Visit the ' +\n",
              "            '<a target=\"_blank\" href=https://colab.research.google.com/notebooks/data_table.ipynb>data table notebook</a>'\n",
              "            + ' to learn more about interactive tables.';\n",
              "          element.innerHTML = '';\n",
              "          dataTable['output_type'] = 'display_data';\n",
              "          await google.colab.output.renderOutput(dataTable, element);\n",
              "          const docLink = document.createElement('div');\n",
              "          docLink.innerHTML = docLinkHtml;\n",
              "          element.appendChild(docLink);\n",
              "        }\n",
              "      </script>\n",
              "    </div>\n",
              "  </div>\n",
              "  "
            ],
            "text/plain": [
              "                         count         mean  ...          75%          max\n",
              "Performance globale      500.0     2.556500  ...     3.500000     5.000000\n",
              "Performance hard skills  500.0     2.490000  ...     4.000000     5.000000\n",
              "Performance soft skills  500.0     2.602000  ...     4.000000     5.000000\n",
              "Rémunération             500.0  2955.150503  ...  3098.903106  7294.490050\n",
              "Prime 2000€              500.0     0.112000  ...     0.000000     1.000000\n",
              "Augmentation             500.0     2.647325  ...     4.040799     6.746705\n",
              "\n",
              "[6 rows x 8 columns]"
            ]
          },
          "metadata": {},
          "execution_count": 4
        }
      ]
    },
    {
      "cell_type": "markdown",
      "source": [
        "# Classification\n",
        "\n",
        "Découvrons comment le machine learning nous permet de comprendre la composition d'un groupe et d'en prédire l'appartenance."
      ],
      "metadata": {
        "id": "R8wZT3xu6As7"
      }
    },
    {
      "cell_type": "code",
      "source": [
        "# Grouper les salariés bénéficiant de la prime\n",
        "df_group_prime = df.groupby('Prime 2000€')\n",
        "\n",
        "# Affichage du nombre de salariés qui bénéficient de la prime.\n",
        "print(df_group_prime.size())"
      ],
      "metadata": {
        "colab": {
          "base_uri": "https://localhost:8080/"
        },
        "id": "9qptPyaSrRFp",
        "outputId": "c6c79260-02b4-4ea3-9d47-aae4b2f5642a"
      },
      "execution_count": 5,
      "outputs": [
        {
          "output_type": "stream",
          "name": "stdout",
          "text": [
            "Prime 2000€\n",
            "0    444\n",
            "1     56\n",
            "dtype: int64\n"
          ]
        }
      ]
    },
    {
      "cell_type": "code",
      "source": [
        "table = pd.pivot_table(data=df,index=['Emploi', \"Prime 2000€\"])\n",
        "table\n",
        "\n",
        "# On constate que la règle a été respectée, les salariés bénéficiant de la prime (1) présentent bien des performances supérieures à ceux n'en bénéficiant pas (0)."
      ],
      "metadata": {
        "colab": {
          "base_uri": "https://localhost:8080/",
          "height": 269
        },
        "id": "B_tL91MuDzeB",
        "outputId": "b7e16aa3-4d60-44ad-c6a1-2c9de98de635"
      },
      "execution_count": 6,
      "outputs": [
        {
          "output_type": "execute_result",
          "data": {
            "text/html": [
              "\n",
              "  <div id=\"df-c86d7028-634c-4184-963b-0b072e857f3c\">\n",
              "    <div class=\"colab-df-container\">\n",
              "      <div>\n",
              "<style scoped>\n",
              "    .dataframe tbody tr th:only-of-type {\n",
              "        vertical-align: middle;\n",
              "    }\n",
              "\n",
              "    .dataframe tbody tr th {\n",
              "        vertical-align: top;\n",
              "    }\n",
              "\n",
              "    .dataframe thead th {\n",
              "        text-align: right;\n",
              "    }\n",
              "</style>\n",
              "<table border=\"1\" class=\"dataframe\">\n",
              "  <thead>\n",
              "    <tr style=\"text-align: right;\">\n",
              "      <th></th>\n",
              "      <th></th>\n",
              "      <th>Augmentation</th>\n",
              "      <th>Performance globale</th>\n",
              "      <th>Performance hard skills</th>\n",
              "      <th>Performance soft skills</th>\n",
              "      <th>Rémunération</th>\n",
              "    </tr>\n",
              "    <tr>\n",
              "      <th>Emploi</th>\n",
              "      <th>Prime 2000€</th>\n",
              "      <th></th>\n",
              "      <th></th>\n",
              "      <th></th>\n",
              "      <th></th>\n",
              "      <th></th>\n",
              "    </tr>\n",
              "  </thead>\n",
              "  <tbody>\n",
              "    <tr>\n",
              "      <th rowspan=\"2\" valign=\"top\">Administratif</th>\n",
              "      <th>0</th>\n",
              "      <td>2.577932</td>\n",
              "      <td>2.362857</td>\n",
              "      <td>2.308571</td>\n",
              "      <td>2.417143</td>\n",
              "      <td>1985.801602</td>\n",
              "    </tr>\n",
              "    <tr>\n",
              "      <th>1</th>\n",
              "      <td>5.497882</td>\n",
              "      <td>4.640000</td>\n",
              "      <td>4.640000</td>\n",
              "      <td>4.640000</td>\n",
              "      <td>2119.505216</td>\n",
              "    </tr>\n",
              "    <tr>\n",
              "      <th rowspan=\"2\" valign=\"top\">Commerciaux</th>\n",
              "      <th>0</th>\n",
              "      <td>2.091262</td>\n",
              "      <td>2.224265</td>\n",
              "      <td>2.191176</td>\n",
              "      <td>2.235294</td>\n",
              "      <td>4394.219820</td>\n",
              "    </tr>\n",
              "    <tr>\n",
              "      <th>1</th>\n",
              "      <td>5.486956</td>\n",
              "      <td>4.589286</td>\n",
              "      <td>3.357143</td>\n",
              "      <td>5.000000</td>\n",
              "      <td>7294.490050</td>\n",
              "    </tr>\n",
              "    <tr>\n",
              "      <th rowspan=\"2\" valign=\"top\">Technicien</th>\n",
              "      <th>0</th>\n",
              "      <td>2.120700</td>\n",
              "      <td>2.285714</td>\n",
              "      <td>2.218045</td>\n",
              "      <td>2.488722</td>\n",
              "      <td>2475.282818</td>\n",
              "    </tr>\n",
              "    <tr>\n",
              "      <th>1</th>\n",
              "      <td>5.399725</td>\n",
              "      <td>4.588235</td>\n",
              "      <td>5.000000</td>\n",
              "      <td>3.352941</td>\n",
              "      <td>2830.762931</td>\n",
              "    </tr>\n",
              "  </tbody>\n",
              "</table>\n",
              "</div>\n",
              "      <button class=\"colab-df-convert\" onclick=\"convertToInteractive('df-c86d7028-634c-4184-963b-0b072e857f3c')\"\n",
              "              title=\"Convert this dataframe to an interactive table.\"\n",
              "              style=\"display:none;\">\n",
              "        \n",
              "  <svg xmlns=\"http://www.w3.org/2000/svg\" height=\"24px\"viewBox=\"0 0 24 24\"\n",
              "       width=\"24px\">\n",
              "    <path d=\"M0 0h24v24H0V0z\" fill=\"none\"/>\n",
              "    <path d=\"M18.56 5.44l.94 2.06.94-2.06 2.06-.94-2.06-.94-.94-2.06-.94 2.06-2.06.94zm-11 1L8.5 8.5l.94-2.06 2.06-.94-2.06-.94L8.5 2.5l-.94 2.06-2.06.94zm10 10l.94 2.06.94-2.06 2.06-.94-2.06-.94-.94-2.06-.94 2.06-2.06.94z\"/><path d=\"M17.41 7.96l-1.37-1.37c-.4-.4-.92-.59-1.43-.59-.52 0-1.04.2-1.43.59L10.3 9.45l-7.72 7.72c-.78.78-.78 2.05 0 2.83L4 21.41c.39.39.9.59 1.41.59.51 0 1.02-.2 1.41-.59l7.78-7.78 2.81-2.81c.8-.78.8-2.07 0-2.86zM5.41 20L4 18.59l7.72-7.72 1.47 1.35L5.41 20z\"/>\n",
              "  </svg>\n",
              "      </button>\n",
              "      \n",
              "  <style>\n",
              "    .colab-df-container {\n",
              "      display:flex;\n",
              "      flex-wrap:wrap;\n",
              "      gap: 12px;\n",
              "    }\n",
              "\n",
              "    .colab-df-convert {\n",
              "      background-color: #E8F0FE;\n",
              "      border: none;\n",
              "      border-radius: 50%;\n",
              "      cursor: pointer;\n",
              "      display: none;\n",
              "      fill: #1967D2;\n",
              "      height: 32px;\n",
              "      padding: 0 0 0 0;\n",
              "      width: 32px;\n",
              "    }\n",
              "\n",
              "    .colab-df-convert:hover {\n",
              "      background-color: #E2EBFA;\n",
              "      box-shadow: 0px 1px 2px rgba(60, 64, 67, 0.3), 0px 1px 3px 1px rgba(60, 64, 67, 0.15);\n",
              "      fill: #174EA6;\n",
              "    }\n",
              "\n",
              "    [theme=dark] .colab-df-convert {\n",
              "      background-color: #3B4455;\n",
              "      fill: #D2E3FC;\n",
              "    }\n",
              "\n",
              "    [theme=dark] .colab-df-convert:hover {\n",
              "      background-color: #434B5C;\n",
              "      box-shadow: 0px 1px 3px 1px rgba(0, 0, 0, 0.15);\n",
              "      filter: drop-shadow(0px 1px 2px rgba(0, 0, 0, 0.3));\n",
              "      fill: #FFFFFF;\n",
              "    }\n",
              "  </style>\n",
              "\n",
              "      <script>\n",
              "        const buttonEl =\n",
              "          document.querySelector('#df-c86d7028-634c-4184-963b-0b072e857f3c button.colab-df-convert');\n",
              "        buttonEl.style.display =\n",
              "          google.colab.kernel.accessAllowed ? 'block' : 'none';\n",
              "\n",
              "        async function convertToInteractive(key) {\n",
              "          const element = document.querySelector('#df-c86d7028-634c-4184-963b-0b072e857f3c');\n",
              "          const dataTable =\n",
              "            await google.colab.kernel.invokeFunction('convertToInteractive',\n",
              "                                                     [key], {});\n",
              "          if (!dataTable) return;\n",
              "\n",
              "          const docLinkHtml = 'Like what you see? Visit the ' +\n",
              "            '<a target=\"_blank\" href=https://colab.research.google.com/notebooks/data_table.ipynb>data table notebook</a>'\n",
              "            + ' to learn more about interactive tables.';\n",
              "          element.innerHTML = '';\n",
              "          dataTable['output_type'] = 'display_data';\n",
              "          await google.colab.output.renderOutput(dataTable, element);\n",
              "          const docLink = document.createElement('div');\n",
              "          docLink.innerHTML = docLinkHtml;\n",
              "          element.appendChild(docLink);\n",
              "        }\n",
              "      </script>\n",
              "    </div>\n",
              "  </div>\n",
              "  "
            ],
            "text/plain": [
              "                           Augmentation  ...  Rémunération\n",
              "Emploi        Prime 2000€                ...              \n",
              "Administratif 0                2.577932  ...   1985.801602\n",
              "              1                5.497882  ...   2119.505216\n",
              "Commerciaux   0                2.091262  ...   4394.219820\n",
              "              1                5.486956  ...   7294.490050\n",
              "Technicien    0                2.120700  ...   2475.282818\n",
              "              1                5.399725  ...   2830.762931\n",
              "\n",
              "[6 rows x 5 columns]"
            ]
          },
          "metadata": {},
          "execution_count": 6
        }
      ]
    },
    {
      "cell_type": "code",
      "source": [
        "table = pd.pivot_table(data=df,index=['Emploi', \"Prime 2000€\"],aggfunc=np.median)\n",
        "table\n",
        "\n",
        "# C'est aussi le cas lorsque l'on observe la mediane."
      ],
      "metadata": {
        "colab": {
          "base_uri": "https://localhost:8080/",
          "height": 269
        },
        "id": "NInfagXfFGSo",
        "outputId": "7a5273d8-88b7-4adc-ed60-d09a3358c4c6"
      },
      "execution_count": 7,
      "outputs": [
        {
          "output_type": "execute_result",
          "data": {
            "text/html": [
              "\n",
              "  <div id=\"df-ea9c9b95-d778-41b0-a094-c460cf29bdd2\">\n",
              "    <div class=\"colab-df-container\">\n",
              "      <div>\n",
              "<style scoped>\n",
              "    .dataframe tbody tr th:only-of-type {\n",
              "        vertical-align: middle;\n",
              "    }\n",
              "\n",
              "    .dataframe tbody tr th {\n",
              "        vertical-align: top;\n",
              "    }\n",
              "\n",
              "    .dataframe thead th {\n",
              "        text-align: right;\n",
              "    }\n",
              "</style>\n",
              "<table border=\"1\" class=\"dataframe\">\n",
              "  <thead>\n",
              "    <tr style=\"text-align: right;\">\n",
              "      <th></th>\n",
              "      <th></th>\n",
              "      <th>Augmentation</th>\n",
              "      <th>Performance globale</th>\n",
              "      <th>Performance hard skills</th>\n",
              "      <th>Performance soft skills</th>\n",
              "      <th>Rémunération</th>\n",
              "    </tr>\n",
              "    <tr>\n",
              "      <th>Emploi</th>\n",
              "      <th>Prime 2000€</th>\n",
              "      <th></th>\n",
              "      <th></th>\n",
              "      <th></th>\n",
              "      <th></th>\n",
              "      <th></th>\n",
              "    </tr>\n",
              "  </thead>\n",
              "  <tbody>\n",
              "    <tr>\n",
              "      <th rowspan=\"2\" valign=\"top\">Administratif</th>\n",
              "      <th>0</th>\n",
              "      <td>2.985768</td>\n",
              "      <td>2.50</td>\n",
              "      <td>2</td>\n",
              "      <td>2</td>\n",
              "      <td>1986.824596</td>\n",
              "    </tr>\n",
              "    <tr>\n",
              "      <th>1</th>\n",
              "      <td>5.468552</td>\n",
              "      <td>4.50</td>\n",
              "      <td>5</td>\n",
              "      <td>5</td>\n",
              "      <td>2108.021685</td>\n",
              "    </tr>\n",
              "    <tr>\n",
              "      <th rowspan=\"2\" valign=\"top\">Commerciaux</th>\n",
              "      <th>0</th>\n",
              "      <td>2.712384</td>\n",
              "      <td>2.25</td>\n",
              "      <td>2</td>\n",
              "      <td>2</td>\n",
              "      <td>3947.734041</td>\n",
              "    </tr>\n",
              "    <tr>\n",
              "      <th>1</th>\n",
              "      <td>5.475261</td>\n",
              "      <td>4.50</td>\n",
              "      <td>3</td>\n",
              "      <td>5</td>\n",
              "      <td>7294.490050</td>\n",
              "    </tr>\n",
              "    <tr>\n",
              "      <th rowspan=\"2\" valign=\"top\">Technicien</th>\n",
              "      <th>0</th>\n",
              "      <td>2.746174</td>\n",
              "      <td>2.25</td>\n",
              "      <td>2</td>\n",
              "      <td>2</td>\n",
              "      <td>2458.324874</td>\n",
              "    </tr>\n",
              "    <tr>\n",
              "      <th>1</th>\n",
              "      <td>5.098473</td>\n",
              "      <td>4.50</td>\n",
              "      <td>5</td>\n",
              "      <td>3</td>\n",
              "      <td>2831.841244</td>\n",
              "    </tr>\n",
              "  </tbody>\n",
              "</table>\n",
              "</div>\n",
              "      <button class=\"colab-df-convert\" onclick=\"convertToInteractive('df-ea9c9b95-d778-41b0-a094-c460cf29bdd2')\"\n",
              "              title=\"Convert this dataframe to an interactive table.\"\n",
              "              style=\"display:none;\">\n",
              "        \n",
              "  <svg xmlns=\"http://www.w3.org/2000/svg\" height=\"24px\"viewBox=\"0 0 24 24\"\n",
              "       width=\"24px\">\n",
              "    <path d=\"M0 0h24v24H0V0z\" fill=\"none\"/>\n",
              "    <path d=\"M18.56 5.44l.94 2.06.94-2.06 2.06-.94-2.06-.94-.94-2.06-.94 2.06-2.06.94zm-11 1L8.5 8.5l.94-2.06 2.06-.94-2.06-.94L8.5 2.5l-.94 2.06-2.06.94zm10 10l.94 2.06.94-2.06 2.06-.94-2.06-.94-.94-2.06-.94 2.06-2.06.94z\"/><path d=\"M17.41 7.96l-1.37-1.37c-.4-.4-.92-.59-1.43-.59-.52 0-1.04.2-1.43.59L10.3 9.45l-7.72 7.72c-.78.78-.78 2.05 0 2.83L4 21.41c.39.39.9.59 1.41.59.51 0 1.02-.2 1.41-.59l7.78-7.78 2.81-2.81c.8-.78.8-2.07 0-2.86zM5.41 20L4 18.59l7.72-7.72 1.47 1.35L5.41 20z\"/>\n",
              "  </svg>\n",
              "      </button>\n",
              "      \n",
              "  <style>\n",
              "    .colab-df-container {\n",
              "      display:flex;\n",
              "      flex-wrap:wrap;\n",
              "      gap: 12px;\n",
              "    }\n",
              "\n",
              "    .colab-df-convert {\n",
              "      background-color: #E8F0FE;\n",
              "      border: none;\n",
              "      border-radius: 50%;\n",
              "      cursor: pointer;\n",
              "      display: none;\n",
              "      fill: #1967D2;\n",
              "      height: 32px;\n",
              "      padding: 0 0 0 0;\n",
              "      width: 32px;\n",
              "    }\n",
              "\n",
              "    .colab-df-convert:hover {\n",
              "      background-color: #E2EBFA;\n",
              "      box-shadow: 0px 1px 2px rgba(60, 64, 67, 0.3), 0px 1px 3px 1px rgba(60, 64, 67, 0.15);\n",
              "      fill: #174EA6;\n",
              "    }\n",
              "\n",
              "    [theme=dark] .colab-df-convert {\n",
              "      background-color: #3B4455;\n",
              "      fill: #D2E3FC;\n",
              "    }\n",
              "\n",
              "    [theme=dark] .colab-df-convert:hover {\n",
              "      background-color: #434B5C;\n",
              "      box-shadow: 0px 1px 3px 1px rgba(0, 0, 0, 0.15);\n",
              "      filter: drop-shadow(0px 1px 2px rgba(0, 0, 0, 0.3));\n",
              "      fill: #FFFFFF;\n",
              "    }\n",
              "  </style>\n",
              "\n",
              "      <script>\n",
              "        const buttonEl =\n",
              "          document.querySelector('#df-ea9c9b95-d778-41b0-a094-c460cf29bdd2 button.colab-df-convert');\n",
              "        buttonEl.style.display =\n",
              "          google.colab.kernel.accessAllowed ? 'block' : 'none';\n",
              "\n",
              "        async function convertToInteractive(key) {\n",
              "          const element = document.querySelector('#df-ea9c9b95-d778-41b0-a094-c460cf29bdd2');\n",
              "          const dataTable =\n",
              "            await google.colab.kernel.invokeFunction('convertToInteractive',\n",
              "                                                     [key], {});\n",
              "          if (!dataTable) return;\n",
              "\n",
              "          const docLinkHtml = 'Like what you see? Visit the ' +\n",
              "            '<a target=\"_blank\" href=https://colab.research.google.com/notebooks/data_table.ipynb>data table notebook</a>'\n",
              "            + ' to learn more about interactive tables.';\n",
              "          element.innerHTML = '';\n",
              "          dataTable['output_type'] = 'display_data';\n",
              "          await google.colab.output.renderOutput(dataTable, element);\n",
              "          const docLink = document.createElement('div');\n",
              "          docLink.innerHTML = docLinkHtml;\n",
              "          element.appendChild(docLink);\n",
              "        }\n",
              "      </script>\n",
              "    </div>\n",
              "  </div>\n",
              "  "
            ],
            "text/plain": [
              "                           Augmentation  ...  Rémunération\n",
              "Emploi        Prime 2000€                ...              \n",
              "Administratif 0                2.985768  ...   1986.824596\n",
              "              1                5.468552  ...   2108.021685\n",
              "Commerciaux   0                2.712384  ...   3947.734041\n",
              "              1                5.475261  ...   7294.490050\n",
              "Technicien    0                2.746174  ...   2458.324874\n",
              "              1                5.098473  ...   2831.841244\n",
              "\n",
              "[6 rows x 5 columns]"
            ]
          },
          "metadata": {},
          "execution_count": 7
        }
      ]
    },
    {
      "cell_type": "code",
      "source": [
        "sns.scatterplot(y = \"Prime 2000€\", x=\"Performance globale\",data =df, hue =\"Prime 2000€\")\n",
        "\n",
        "plt.text(4.1, 0.5, \"Ces salariés présentent la même performance globale.\\nCertains bénéficient de la prime et d'autres non\", horizontalalignment='right', size='small', color='black')\n",
        "\n",
        "left, bottom, width, height = (4.15, -0.05, 0.2, 1.1)\n",
        "rect=mpatches.Rectangle((left,bottom),width,height, fill=False, color=\"black\", linewidth=2)\n",
        "plt.gca().add_patch(rect)\n",
        "\n",
        "plt.show()\n",
        "\n",
        "# Mais lorsque l'on regarde la distribution, il semble que l'information seule de la performance globale ne suffise pas à distribuer la prime.\n",
        "# En effet, des point de performance globale sont en commun.\n",
        "# Le machine learning présente tout son intérêt ici."
      ],
      "metadata": {
        "colab": {
          "base_uri": "https://localhost:8080/",
          "height": 279
        },
        "id": "q32tfLThFt6N",
        "outputId": "be85006d-fe4c-431a-8c6c-b336e61f2709"
      },
      "execution_count": 55,
      "outputs": [
        {
          "output_type": "display_data",
          "data": {
            "image/png": "[encoded data removed]",
            "text/plain": [
              "<Figure size 432x288 with 1 Axes>"
            ]
          },
          "metadata": {
            "needs_background": "light"
          }
        }
      ]
    },
    {
      "cell_type": "markdown",
      "source": [
        "## Péripétie\n",
        "\n",
        "Un manager n'arrive pas à se décider dans l'attrbution de la prime de 2 000€. Il vous est demandé donner de la visibilité sur le montant qui sera distribué.\n",
        "\n",
        "Pour cela, nous pouvons nous appuyer sur les décisions prises par les autres managers et conclure d'un comportement similaire.\n",
        "\n",
        "Nous utiliserons la seule règle donnée pour la distribution de la prime : *récompenser une performance excpetionnelle*.\n"
      ],
      "metadata": {
        "id": "s8uKsEfXGxym"
      }
    },
    {
      "cell_type": "markdown",
      "source": [
        "Il est important d'avoir en tête que les machines ne sont pas à l'aise avec les données catégorielles comme les emplois. Nous appliquer appliquer un *One Hot Encoding*. Le principe est de créerune colonne par catégories. Ces données seront ainsi plus intelligibles pour une machine."
      ],
      "metadata": {
        "id": "sVy66Q-eOPSG"
      }
    },
    {
      "cell_type": "code",
      "source": [
        "one_hot = pd.get_dummies(df[\"Emploi\"], prefix = \"Emploi\")\n",
        "\n",
        "print(one_hot)"
      ],
      "metadata": {
        "colab": {
          "base_uri": "https://localhost:8080/"
        },
        "id": "alXWCW4JNLGN",
        "outputId": "93279323-fd32-4949-fde9-d4b1625dc547"
      },
      "execution_count": 56,
      "outputs": [
        {
          "output_type": "stream",
          "name": "stdout",
          "text": [
            "     Emploi_Administratif  Emploi_Commerciaux  Emploi_Technicien\n",
            "0                       1                   0                  0\n",
            "1                       1                   0                  0\n",
            "2                       1                   0                  0\n",
            "3                       1                   0                  0\n",
            "4                       1                   0                  0\n",
            "..                    ...                 ...                ...\n",
            "495                     0                   1                  0\n",
            "496                     0                   1                  0\n",
            "497                     0                   1                  0\n",
            "498                     0                   1                  0\n",
            "499                     0                   1                  0\n",
            "\n",
            "[500 rows x 3 columns]\n"
          ]
        }
      ]
    },
    {
      "cell_type": "code",
      "source": [
        "# Ajoutons ces données encodées à notre jeu de données.\n",
        "\n",
        "df = df.join(one_hot)\n",
        "\n",
        "df.head()"
      ],
      "metadata": {
        "colab": {
          "base_uri": "https://localhost:8080/",
          "height": 287
        },
        "id": "Rf_MdwW4f7yJ",
        "outputId": "66b46a25-778a-4ba0-8546-213ef6f75ae3"
      },
      "execution_count": 57,
      "outputs": [
        {
          "output_type": "execute_result",
          "data": {
            "text/html": [
              "\n",
              "  <div id=\"df-7def28bf-9a5f-4a85-a45e-e89ae22c8846\">\n",
              "    <div class=\"colab-df-container\">\n",
              "      <div>\n",
              "<style scoped>\n",
              "    .dataframe tbody tr th:only-of-type {\n",
              "        vertical-align: middle;\n",
              "    }\n",
              "\n",
              "    .dataframe tbody tr th {\n",
              "        vertical-align: top;\n",
              "    }\n",
              "\n",
              "    .dataframe thead th {\n",
              "        text-align: right;\n",
              "    }\n",
              "</style>\n",
              "<table border=\"1\" class=\"dataframe\">\n",
              "  <thead>\n",
              "    <tr style=\"text-align: right;\">\n",
              "      <th></th>\n",
              "      <th>Matricule</th>\n",
              "      <th>Emploi</th>\n",
              "      <th>Performance globale</th>\n",
              "      <th>Performance hard skills</th>\n",
              "      <th>Performance soft skills</th>\n",
              "      <th>Rémunération</th>\n",
              "      <th>Prime 2000€</th>\n",
              "      <th>Augmentation</th>\n",
              "      <th>Emploi_Administratif</th>\n",
              "      <th>Emploi_Commerciaux</th>\n",
              "      <th>Emploi_Technicien</th>\n",
              "    </tr>\n",
              "  </thead>\n",
              "  <tbody>\n",
              "    <tr>\n",
              "      <th>0</th>\n",
              "      <td>A001</td>\n",
              "      <td>Administratif</td>\n",
              "      <td>2.0</td>\n",
              "      <td>3</td>\n",
              "      <td>1</td>\n",
              "      <td>1964.872127</td>\n",
              "      <td>0</td>\n",
              "      <td>2.016283</td>\n",
              "      <td>1</td>\n",
              "      <td>0</td>\n",
              "      <td>0</td>\n",
              "    </tr>\n",
              "    <tr>\n",
              "      <th>1</th>\n",
              "      <td>A002</td>\n",
              "      <td>Administratif</td>\n",
              "      <td>5.0</td>\n",
              "      <td>5</td>\n",
              "      <td>5</td>\n",
              "      <td>2149.034296</td>\n",
              "      <td>1</td>\n",
              "      <td>5.468552</td>\n",
              "      <td>1</td>\n",
              "      <td>0</td>\n",
              "      <td>0</td>\n",
              "    </tr>\n",
              "    <tr>\n",
              "      <th>2</th>\n",
              "      <td>A003</td>\n",
              "      <td>Administratif</td>\n",
              "      <td>2.5</td>\n",
              "      <td>2</td>\n",
              "      <td>3</td>\n",
              "      <td>1986.824596</td>\n",
              "      <td>0</td>\n",
              "      <td>2.612227</td>\n",
              "      <td>1</td>\n",
              "      <td>0</td>\n",
              "      <td>0</td>\n",
              "    </tr>\n",
              "    <tr>\n",
              "      <th>3</th>\n",
              "      <td>A004</td>\n",
              "      <td>Administratif</td>\n",
              "      <td>4.0</td>\n",
              "      <td>5</td>\n",
              "      <td>3</td>\n",
              "      <td>2071.828183</td>\n",
              "      <td>0</td>\n",
              "      <td>5.146593</td>\n",
              "      <td>1</td>\n",
              "      <td>0</td>\n",
              "      <td>0</td>\n",
              "    </tr>\n",
              "    <tr>\n",
              "      <th>4</th>\n",
              "      <td>A005</td>\n",
              "      <td>Administratif</td>\n",
              "      <td>2.0</td>\n",
              "      <td>1</td>\n",
              "      <td>3</td>\n",
              "      <td>1964.872127</td>\n",
              "      <td>0</td>\n",
              "      <td>2.833823</td>\n",
              "      <td>1</td>\n",
              "      <td>0</td>\n",
              "      <td>0</td>\n",
              "    </tr>\n",
              "  </tbody>\n",
              "</table>\n",
              "</div>\n",
              "      <button class=\"colab-df-convert\" onclick=\"convertToInteractive('df-7def28bf-9a5f-4a85-a45e-e89ae22c8846')\"\n",
              "              title=\"Convert this dataframe to an interactive table.\"\n",
              "              style=\"display:none;\">\n",
              "        \n",
              "  <svg xmlns=\"http://www.w3.org/2000/svg\" height=\"24px\"viewBox=\"0 0 24 24\"\n",
              "       width=\"24px\">\n",
              "    <path d=\"M0 0h24v24H0V0z\" fill=\"none\"/>\n",
              "    <path d=\"M18.56 5.44l.94 2.06.94-2.06 2.06-.94-2.06-.94-.94-2.06-.94 2.06-2.06.94zm-11 1L8.5 8.5l.94-2.06 2.06-.94-2.06-.94L8.5 2.5l-.94 2.06-2.06.94zm10 10l.94 2.06.94-2.06 2.06-.94-2.06-.94-.94-2.06-.94 2.06-2.06.94z\"/><path d=\"M17.41 7.96l-1.37-1.37c-.4-.4-.92-.59-1.43-.59-.52 0-1.04.2-1.43.59L10.3 9.45l-7.72 7.72c-.78.78-.78 2.05 0 2.83L4 21.41c.39.39.9.59 1.41.59.51 0 1.02-.2 1.41-.59l7.78-7.78 2.81-2.81c.8-.78.8-2.07 0-2.86zM5.41 20L4 18.59l7.72-7.72 1.47 1.35L5.41 20z\"/>\n",
              "  </svg>\n",
              "      </button>\n",
              "      \n",
              "  <style>\n",
              "    .colab-df-container {\n",
              "      display:flex;\n",
              "      flex-wrap:wrap;\n",
              "      gap: 12px;\n",
              "    }\n",
              "\n",
              "    .colab-df-convert {\n",
              "      background-color: #E8F0FE;\n",
              "      border: none;\n",
              "      border-radius: 50%;\n",
              "      cursor: pointer;\n",
              "      display: none;\n",
              "      fill: #1967D2;\n",
              "      height: 32px;\n",
              "      padding: 0 0 0 0;\n",
              "      width: 32px;\n",
              "    }\n",
              "\n",
              "    .colab-df-convert:hover {\n",
              "      background-color: #E2EBFA;\n",
              "      box-shadow: 0px 1px 2px rgba(60, 64, 67, 0.3), 0px 1px 3px 1px rgba(60, 64, 67, 0.15);\n",
              "      fill: #174EA6;\n",
              "    }\n",
              "\n",
              "    [theme=dark] .colab-df-convert {\n",
              "      background-color: #3B4455;\n",
              "      fill: #D2E3FC;\n",
              "    }\n",
              "\n",
              "    [theme=dark] .colab-df-convert:hover {\n",
              "      background-color: #434B5C;\n",
              "      box-shadow: 0px 1px 3px 1px rgba(0, 0, 0, 0.15);\n",
              "      filter: drop-shadow(0px 1px 2px rgba(0, 0, 0, 0.3));\n",
              "      fill: #FFFFFF;\n",
              "    }\n",
              "  </style>\n",
              "\n",
              "      <script>\n",
              "        const buttonEl =\n",
              "          document.querySelector('#df-7def28bf-9a5f-4a85-a45e-e89ae22c8846 button.colab-df-convert');\n",
              "        buttonEl.style.display =\n",
              "          google.colab.kernel.accessAllowed ? 'block' : 'none';\n",
              "\n",
              "        async function convertToInteractive(key) {\n",
              "          const element = document.querySelector('#df-7def28bf-9a5f-4a85-a45e-e89ae22c8846');\n",
              "          const dataTable =\n",
              "            await google.colab.kernel.invokeFunction('convertToInteractive',\n",
              "                                                     [key], {});\n",
              "          if (!dataTable) return;\n",
              "\n",
              "          const docLinkHtml = 'Like what you see? Visit the ' +\n",
              "            '<a target=\"_blank\" href=https://colab.research.google.com/notebooks/data_table.ipynb>data table notebook</a>'\n",
              "            + ' to learn more about interactive tables.';\n",
              "          element.innerHTML = '';\n",
              "          dataTable['output_type'] = 'display_data';\n",
              "          await google.colab.output.renderOutput(dataTable, element);\n",
              "          const docLink = document.createElement('div');\n",
              "          docLink.innerHTML = docLinkHtml;\n",
              "          element.appendChild(docLink);\n",
              "        }\n",
              "      </script>\n",
              "    </div>\n",
              "  </div>\n",
              "  "
            ],
            "text/plain": [
              "  Matricule         Emploi  ...  Emploi_Commerciaux  Emploi_Technicien\n",
              "0      A001  Administratif  ...                   0                  0\n",
              "1      A002  Administratif  ...                   0                  0\n",
              "2      A003  Administratif  ...                   0                  0\n",
              "3      A004  Administratif  ...                   0                  0\n",
              "4      A005  Administratif  ...                   0                  0\n",
              "\n",
              "[5 rows x 11 columns]"
            ]
          },
          "metadata": {},
          "execution_count": 57
        }
      ]
    },
    {
      "cell_type": "markdown",
      "source": [
        "## Constitution des bases de test et d'entrainement\n",
        "\n",
        "Afin de constituer notre modèle, nous allons séparer nos données  en deux bases: \n",
        "- Une base d'apprentissage pour 80% des données disponibles. Cette base servira à entrainter l'ordinateur\n",
        "- Une base de test pour les 20% des données restantes. Cette base servira à confronter les résultats de l'entrainement avec les données\n",
        "\n",
        "Pour faire simple, nous utiliserons une méthode de sélection aléatoire.\n"
      ],
      "metadata": {
        "id": "tpNt4EvjKq0L"
      }
    },
    {
      "cell_type": "code",
      "source": [
        "df_train = df.sample(frac = 0.8)\n",
        "\n",
        "df_test=df.drop(df_train.index)\n",
        "\n",
        "print(df_train.shape)\n",
        "print(df_test.shape)"
      ],
      "metadata": {
        "id": "MAONr6Go_zgg",
        "outputId": "2fb6ed2d-0c5f-4ad7-9d0c-26b2eca53145",
        "colab": {
          "base_uri": "https://localhost:8080/"
        }
      },
      "execution_count": 58,
      "outputs": [
        {
          "output_type": "stream",
          "name": "stdout",
          "text": [
            "(400, 11)\n",
            "(100, 11)\n"
          ]
        }
      ]
    },
    {
      "cell_type": "code",
      "source": [
        "df.columns"
      ],
      "metadata": {
        "id": "afQs2TysjMTm",
        "outputId": "b3735be8-733d-4dc8-cce4-7a7152218e96",
        "colab": {
          "base_uri": "https://localhost:8080/"
        }
      },
      "execution_count": 59,
      "outputs": [
        {
          "output_type": "execute_result",
          "data": {
            "text/plain": [
              "Index(['Matricule', 'Emploi', 'Performance globale', 'Performance hard skills',\n",
              "       'Performance soft skills', 'Rémunération', 'Prime 2000€',\n",
              "       'Augmentation', 'Emploi_Administratif', 'Emploi_Commerciaux',\n",
              "       'Emploi_Technicien'],\n",
              "      dtype='object')"
            ]
          },
          "metadata": {},
          "execution_count": 59
        }
      ]
    },
    {
      "cell_type": "code",
      "source": [
        "# Nous définissons Y, la variable catégorielle que nous souhaitons prédire. Ici, il s'agit de l'attribution de la prime.\n",
        "y = df_train[\"Prime 2000€\"]\n",
        "\n",
        "# Et nous définissons X, les variables permettant d'expliquer la variable Y.\n",
        "# L'apport du People Analytics par rapport à un Data scientist est structurant. \n",
        "# En effet, sur des questions complexes, une expertise métier est essentielle afin de construire et d'affiner le modèle.\n",
        "# Nous pouvons par exemple exclure les matricules. \n",
        "# Nous décidons également de retirer la rémunération puisque cette prime ne doit être attibuée qu'à la performance.\n",
        "# Nous conservons les emplois car la performance, en tant que manifestation d'une compétence, peut se manifester différement selon les emplois.\n",
        "variables_test =['Performance globale','Performance hard skills','Performance soft skills','Emploi_Administratif','Emploi_Commerciaux','Emploi_Technicien']\n",
        "X = df_train[variables_test]"
      ],
      "metadata": {
        "id": "TWHO8bBdRjGm"
      },
      "execution_count": 60,
      "outputs": []
    },
    {
      "cell_type": "markdown",
      "source": [
        "## Construction du modèle de Machine Learning\n",
        "\n",
        "Nous pouvons maintenant appeler Scikit Learn, la bibliothèque spécialisée dans le machine learning afin de lui poser notre question.\n",
        "\n",
        "Nous allons utiliser un arbre de décision. Il s'agit d'une méthode simple mais puissante.\n",
        "Il s'agit de créer une  branches pour chaque variable explicative et va tester poids de cette variable dans l'attribution à une catégorie."
      ],
      "metadata": {
        "id": "sRcYE-Caj0qv"
      }
    },
    {
      "cell_type": "code",
      "source": [
        "# import du model tree de scikit-learn\n",
        "from sklearn import tree\n",
        "\n",
        "# création du modèle d'apprentissage\n",
        "clf= tree.DecisionTreeClassifier()\n",
        "\n",
        "# Envoi des données d'apprentissage pour entrainement\n",
        "clf = clf.fit(X,y)"
      ],
      "metadata": {
        "id": "I9Y12CSqht_Q"
      },
      "execution_count": 61,
      "outputs": []
    },
    {
      "cell_type": "code",
      "source": [
        "# Une fois l'entrainement réalisé, il est possible d'afficher l'arbre de décision.\n",
        "# En bleu, se trouvent les chemins qui permettent de constater l'attribution d'une prime. \n",
        "# On y retrouve le nombre d'observations qui respectent ce critère.\n",
        "\n",
        "from sklearn.tree import plot_tree\n",
        "import matplotlib.pyplot as plt\n",
        "\n",
        "X_col = X.columns\n",
        "plt.figure(figsize = (15,15))\n",
        "plot_tree(clf,feature_names= X_col, filled = True)\n",
        "\n",
        "\"\"\"\n",
        "Les données importantes sont :\n",
        "- Le chemin que prend la machine pour traiter les questions. \n",
        "- Le coefficient de Gini, qui permet de mesurer l'égalité de notre échantillon sur la variable. Plus cet indice est petit, pour les classes sont concentrées sur un sommet\n",
        "\"\"\""
      ],
      "metadata": {
        "id": "gJ2LAbyWpmo0",
        "outputId": "6220a0d6-1b48-4b2f-95c4-71c6ffba08a9",
        "colab": {
          "base_uri": "https://localhost:8080/",
          "height": 882
        }
      },
      "execution_count": 70,
      "outputs": [
        {
          "output_type": "execute_result",
          "data": {
            "application/vnd.google.colaboratory.intrinsic+json": {
              "type": "string"
            },
            "text/plain": [
              "\"\\nLes données importantes sont :\\n- Le chemin que prend la machine pour traiter les questions. \\n- Le coefficient de Gini, qui permet de mesurer l'égalité de notre échantillon sur la variable. Plus cet indice est petit, pour les classes sont concentrées sur un sommet\\n\""
            ]
          },
          "metadata": {},
          "execution_count": 70
        },
        {
          "output_type": "display_data",
          "data": {
            "image/png": "[encoded data removed]",
            "text/plain": [
              "<Figure size 1080x1080 with 1 Axes>"
            ]
          },
          "metadata": {
            "needs_background": "light"
          }
        }
      ]
    },
    {
      "cell_type": "code",
      "source": [
        "#On constate que la performance globale est la variable la plus importante suivie des autres sources de performance et des types d'emploi.\n",
        "impVarFirst={\"Variable\":X_col,\"Importance\":clf.feature_importances_}\n",
        "print(pd.DataFrame(impVarFirst))"
      ],
      "metadata": {
        "id": "WK-iQv-RwDw4",
        "outputId": "7c973bf2-e8ca-4618-fdda-36bc156ae38e",
        "colab": {
          "base_uri": "https://localhost:8080/"
        }
      },
      "execution_count": 63,
      "outputs": [
        {
          "output_type": "stream",
          "name": "stdout",
          "text": [
            "                  Variable  Importance\n",
            "0      Performance globale    0.923077\n",
            "1  Performance hard skills    0.031469\n",
            "2  Performance soft skills    0.045455\n",
            "3     Emploi_Administratif    0.000000\n",
            "4       Emploi_Commerciaux    0.000000\n",
            "5        Emploi_Technicien    0.000000\n"
          ]
        }
      ]
    },
    {
      "cell_type": "markdown",
      "source": [
        "## Test du modèle\n",
        "\n",
        "Notre modèle étant construit, nous pouvons maintenant passer au test sur l'échantillon restant en passant les mêmes données que pour l'apprentissage."
      ],
      "metadata": {
        "id": "S3wYY_EAxL6o"
      }
    },
    {
      "cell_type": "code",
      "source": [
        "# Selection des donner à tester\n",
        "X_test = df_test[variables_test]\n",
        "\n",
        "# Lancement du test\n",
        "prediction = pd.DataFrame(clf.predict(X_test))\n",
        "prediction.columns= [\"Prime prediction\"]\n",
        "\n",
        "# Affichage du test\n",
        "prediction.groupby(\"Prime prediction\").size()"
      ],
      "metadata": {
        "id": "s8gxhDkVxKtY",
        "outputId": "2be77868-6abc-40c7-daef-dd4180c1b083",
        "colab": {
          "base_uri": "https://localhost:8080/"
        }
      },
      "execution_count": 64,
      "outputs": [
        {
          "output_type": "execute_result",
          "data": {
            "text/plain": [
              "Prime prediction\n",
              "0    84\n",
              "1    16\n",
              "dtype: int64"
            ]
          },
          "metadata": {},
          "execution_count": 64
        }
      ]
    },
    {
      "cell_type": "markdown",
      "source": [
        "Nous constatons que la sortie de la prédiction est similaire à l'entrée : 1 lorsqu'une prime est attribuée, 0 lorsqu'aucune prime n'est attribuée.\n",
        "\n",
        "Ainsi, 1 salarié sur les 50 de notre test voient l'attribution de la prime.\n",
        "\n",
        "L'attribution était de 8% sur notre jeu de données d'entraiement.\n",
        "Vérifions la qualité de notre prédiction."
      ],
      "metadata": {
        "id": "s7IMe0iCx8bk"
      }
    },
    {
      "cell_type": "code",
      "source": [
        "from sklearn import metrics\n",
        "cm = metrics.confusion_matrix(df_test[\"Prime 2000€\"],prediction)\n",
        "df_cm = pd.DataFrame(cm, index =[\"Test_0\",\"Test_1\"], columns=[\"Predict_0\",\"Predict_1\"])\n",
        "plt.figure(figsize = (5,5))\n",
        "sns.heatmap(df_cm, annot = True)"
      ],
      "metadata": {
        "id": "cB4l2YdgyDOL",
        "outputId": "c3d3ab0c-3c0e-425c-9ae4-d8631c4bcbbd",
        "colab": {
          "base_uri": "https://localhost:8080/",
          "height": 338
        }
      },
      "execution_count": 65,
      "outputs": [
        {
          "output_type": "execute_result",
          "data": {
            "text/plain": [
              "<matplotlib.axes._subplots.AxesSubplot at 0x7f13f99fbc50>"
            ]
          },
          "metadata": {},
          "execution_count": 65
        },
        {
          "output_type": "display_data",
          "data": {
            "image/png": "[encoded data removed]",
            "text/plain": [
              "<Figure size 360x360 with 2 Axes>"
            ]
          },
          "metadata": {
            "needs_background": "light"
          }
        }
      ]
    },
    {
      "cell_type": "markdown",
      "source": [
        "##Conclusions du test\n",
        "\n",
        "La matrice de confusion nous montre que notre modèle a prédit correction :\n",
        "(16+84)/100 = 100% des données.\n",
        "\n",
        "Bien entendu, le jeu de données est contitué de telle sorte que le cas fonctionne. En réalité, le travail de préparation et d'exploration de données est bien plus long.\n",
        "De même, nous n'avons réalisé aucun ajustement des paramètres de notre algorithmes.\n",
        "\n",
        "Nous en concluons que les modèles de machine learning permettent de simplifier et de donner une approximation d'une réalité à partir d'observations. Pour des décisions si critiques, une intelligence humaine doit rester au service de l'humain et ne pas s'y substituer.\n",
        "\n",
        "Nous pourrions améliorer notre modèle en :\n",
        "- Optimisant notre modèle d'apprentissage (affinage des paramètres d'apprentissage, des ratios apprentissage/test)\n",
        "- Utilisant plus de variables (ancienneté, âge, lieu d'emploi)\n",
        "- Utilisant un jeu de données d'entrainement plus important (des filiales, des opérations similaires sur des années précédantes)\n",
        "\n",
        "\n",
        "En pleine connaissance des approximations de notre modèle, nous pouvons appliquer une prédiction."
      ],
      "metadata": {
        "id": "5AIqGGdL2-xV"
      }
    },
    {
      "cell_type": "code",
      "source": [
        "# Nous téléchargeons les données incomplètes à prédire\n",
        "\n",
        "data_to_predict = \"https://raw.githubusercontent.com/ArnaudCoulon/MyPeopleAnalytics.fr/main/Analytics/introduction_ML/DataSet_introduction_ML_Echantillon.csv\"\n",
        "\n",
        "df_to_predict = pd.read_csv(data_to_predict)\n",
        "\n",
        "one_hot_predict = pd.get_dummies(df_to_predict[\"Emploi\"], prefix = \"Emploi\")\n",
        "\n",
        "df_to_predict = df_to_predict.join(one_hot_predict)\n",
        "\n",
        "X_predict = df_to_predict[variables_test]\n",
        "\n",
        "\n",
        "df_to_predict"
      ],
      "metadata": {
        "id": "P3TYTvGp2GJB",
        "outputId": "8be13f3d-cb57-4842-a622-ca76a5e9e825",
        "colab": {
          "base_uri": "https://localhost:8080/",
          "height": 581
        }
      },
      "execution_count": 66,
      "outputs": [
        {
          "output_type": "execute_result",
          "data": {
            "text/html": [
              "\n",
              "  <div id=\"df-09f377af-8d7c-4ef5-b9da-a85a23ab9459\">\n",
              "    <div class=\"colab-df-container\">\n",
              "      <div>\n",
              "<style scoped>\n",
              "    .dataframe tbody tr th:only-of-type {\n",
              "        vertical-align: middle;\n",
              "    }\n",
              "\n",
              "    .dataframe tbody tr th {\n",
              "        vertical-align: top;\n",
              "    }\n",
              "\n",
              "    .dataframe thead th {\n",
              "        text-align: right;\n",
              "    }\n",
              "</style>\n",
              "<table border=\"1\" class=\"dataframe\">\n",
              "  <thead>\n",
              "    <tr style=\"text-align: right;\">\n",
              "      <th></th>\n",
              "      <th>Matricule</th>\n",
              "      <th>Emploi</th>\n",
              "      <th>Performance globale</th>\n",
              "      <th>Performance hard skills</th>\n",
              "      <th>Performance soft skills</th>\n",
              "      <th>Emploi_Administratif</th>\n",
              "      <th>Emploi_Commerciaux</th>\n",
              "      <th>Emploi_Technicien</th>\n",
              "    </tr>\n",
              "  </thead>\n",
              "  <tbody>\n",
              "    <tr>\n",
              "      <th>0</th>\n",
              "      <td>D001</td>\n",
              "      <td>Administratif</td>\n",
              "      <td>3</td>\n",
              "      <td>3</td>\n",
              "      <td>2</td>\n",
              "      <td>1</td>\n",
              "      <td>0</td>\n",
              "      <td>0</td>\n",
              "    </tr>\n",
              "    <tr>\n",
              "      <th>1</th>\n",
              "      <td>D002</td>\n",
              "      <td>Administratif</td>\n",
              "      <td>3</td>\n",
              "      <td>1</td>\n",
              "      <td>5</td>\n",
              "      <td>1</td>\n",
              "      <td>0</td>\n",
              "      <td>0</td>\n",
              "    </tr>\n",
              "    <tr>\n",
              "      <th>2</th>\n",
              "      <td>D003</td>\n",
              "      <td>Administratif</td>\n",
              "      <td>1</td>\n",
              "      <td>1</td>\n",
              "      <td>1</td>\n",
              "      <td>1</td>\n",
              "      <td>0</td>\n",
              "      <td>0</td>\n",
              "    </tr>\n",
              "    <tr>\n",
              "      <th>3</th>\n",
              "      <td>D004</td>\n",
              "      <td>Administratif</td>\n",
              "      <td>5</td>\n",
              "      <td>5</td>\n",
              "      <td>0</td>\n",
              "      <td>1</td>\n",
              "      <td>0</td>\n",
              "      <td>0</td>\n",
              "    </tr>\n",
              "    <tr>\n",
              "      <th>4</th>\n",
              "      <td>D005</td>\n",
              "      <td>Administratif</td>\n",
              "      <td>3</td>\n",
              "      <td>4</td>\n",
              "      <td>2</td>\n",
              "      <td>1</td>\n",
              "      <td>0</td>\n",
              "      <td>0</td>\n",
              "    </tr>\n",
              "    <tr>\n",
              "      <th>5</th>\n",
              "      <td>D006</td>\n",
              "      <td>Technicien</td>\n",
              "      <td>3</td>\n",
              "      <td>3</td>\n",
              "      <td>4</td>\n",
              "      <td>0</td>\n",
              "      <td>0</td>\n",
              "      <td>1</td>\n",
              "    </tr>\n",
              "    <tr>\n",
              "      <th>6</th>\n",
              "      <td>D007</td>\n",
              "      <td>Technicien</td>\n",
              "      <td>2</td>\n",
              "      <td>2</td>\n",
              "      <td>0</td>\n",
              "      <td>0</td>\n",
              "      <td>0</td>\n",
              "      <td>1</td>\n",
              "    </tr>\n",
              "    <tr>\n",
              "      <th>7</th>\n",
              "      <td>D008</td>\n",
              "      <td>Technicien</td>\n",
              "      <td>5</td>\n",
              "      <td>5</td>\n",
              "      <td>5</td>\n",
              "      <td>0</td>\n",
              "      <td>0</td>\n",
              "      <td>1</td>\n",
              "    </tr>\n",
              "    <tr>\n",
              "      <th>8</th>\n",
              "      <td>D009</td>\n",
              "      <td>Technicien</td>\n",
              "      <td>1</td>\n",
              "      <td>0</td>\n",
              "      <td>5</td>\n",
              "      <td>0</td>\n",
              "      <td>0</td>\n",
              "      <td>1</td>\n",
              "    </tr>\n",
              "    <tr>\n",
              "      <th>9</th>\n",
              "      <td>D010</td>\n",
              "      <td>Technicien</td>\n",
              "      <td>3</td>\n",
              "      <td>5</td>\n",
              "      <td>2</td>\n",
              "      <td>0</td>\n",
              "      <td>0</td>\n",
              "      <td>1</td>\n",
              "    </tr>\n",
              "    <tr>\n",
              "      <th>10</th>\n",
              "      <td>D011</td>\n",
              "      <td>Commerciaux</td>\n",
              "      <td>5</td>\n",
              "      <td>5</td>\n",
              "      <td>5</td>\n",
              "      <td>0</td>\n",
              "      <td>1</td>\n",
              "      <td>0</td>\n",
              "    </tr>\n",
              "    <tr>\n",
              "      <th>11</th>\n",
              "      <td>D012</td>\n",
              "      <td>Commerciaux</td>\n",
              "      <td>2</td>\n",
              "      <td>3</td>\n",
              "      <td>1</td>\n",
              "      <td>0</td>\n",
              "      <td>1</td>\n",
              "      <td>0</td>\n",
              "    </tr>\n",
              "    <tr>\n",
              "      <th>12</th>\n",
              "      <td>D013</td>\n",
              "      <td>Commerciaux</td>\n",
              "      <td>4</td>\n",
              "      <td>5</td>\n",
              "      <td>4</td>\n",
              "      <td>0</td>\n",
              "      <td>1</td>\n",
              "      <td>0</td>\n",
              "    </tr>\n",
              "    <tr>\n",
              "      <th>13</th>\n",
              "      <td>D014</td>\n",
              "      <td>Commerciaux</td>\n",
              "      <td>3</td>\n",
              "      <td>2</td>\n",
              "      <td>2</td>\n",
              "      <td>0</td>\n",
              "      <td>1</td>\n",
              "      <td>0</td>\n",
              "    </tr>\n",
              "    <tr>\n",
              "      <th>14</th>\n",
              "      <td>D015</td>\n",
              "      <td>Commerciaux</td>\n",
              "      <td>1</td>\n",
              "      <td>4</td>\n",
              "      <td>0</td>\n",
              "      <td>0</td>\n",
              "      <td>1</td>\n",
              "      <td>0</td>\n",
              "    </tr>\n",
              "  </tbody>\n",
              "</table>\n",
              "</div>\n",
              "      <button class=\"colab-df-convert\" onclick=\"convertToInteractive('df-09f377af-8d7c-4ef5-b9da-a85a23ab9459')\"\n",
              "              title=\"Convert this dataframe to an interactive table.\"\n",
              "              style=\"display:none;\">\n",
              "        \n",
              "  <svg xmlns=\"http://www.w3.org/2000/svg\" height=\"24px\"viewBox=\"0 0 24 24\"\n",
              "       width=\"24px\">\n",
              "    <path d=\"M0 0h24v24H0V0z\" fill=\"none\"/>\n",
              "    <path d=\"M18.56 5.44l.94 2.06.94-2.06 2.06-.94-2.06-.94-.94-2.06-.94 2.06-2.06.94zm-11 1L8.5 8.5l.94-2.06 2.06-.94-2.06-.94L8.5 2.5l-.94 2.06-2.06.94zm10 10l.94 2.06.94-2.06 2.06-.94-2.06-.94-.94-2.06-.94 2.06-2.06.94z\"/><path d=\"M17.41 7.96l-1.37-1.37c-.4-.4-.92-.59-1.43-.59-.52 0-1.04.2-1.43.59L10.3 9.45l-7.72 7.72c-.78.78-.78 2.05 0 2.83L4 21.41c.39.39.9.59 1.41.59.51 0 1.02-.2 1.41-.59l7.78-7.78 2.81-2.81c.8-.78.8-2.07 0-2.86zM5.41 20L4 18.59l7.72-7.72 1.47 1.35L5.41 20z\"/>\n",
              "  </svg>\n",
              "      </button>\n",
              "      \n",
              "  <style>\n",
              "    .colab-df-container {\n",
              "      display:flex;\n",
              "      flex-wrap:wrap;\n",
              "      gap: 12px;\n",
              "    }\n",
              "\n",
              "    .colab-df-convert {\n",
              "      background-color: #E8F0FE;\n",
              "      border: none;\n",
              "      border-radius: 50%;\n",
              "      cursor: pointer;\n",
              "      display: none;\n",
              "      fill: #1967D2;\n",
              "      height: 32px;\n",
              "      padding: 0 0 0 0;\n",
              "      width: 32px;\n",
              "    }\n",
              "\n",
              "    .colab-df-convert:hover {\n",
              "      background-color: #E2EBFA;\n",
              "      box-shadow: 0px 1px 2px rgba(60, 64, 67, 0.3), 0px 1px 3px 1px rgba(60, 64, 67, 0.15);\n",
              "      fill: #174EA6;\n",
              "    }\n",
              "\n",
              "    [theme=dark] .colab-df-convert {\n",
              "      background-color: #3B4455;\n",
              "      fill: #D2E3FC;\n",
              "    }\n",
              "\n",
              "    [theme=dark] .colab-df-convert:hover {\n",
              "      background-color: #434B5C;\n",
              "      box-shadow: 0px 1px 3px 1px rgba(0, 0, 0, 0.15);\n",
              "      filter: drop-shadow(0px 1px 2px rgba(0, 0, 0, 0.3));\n",
              "      fill: #FFFFFF;\n",
              "    }\n",
              "  </style>\n",
              "\n",
              "      <script>\n",
              "        const buttonEl =\n",
              "          document.querySelector('#df-09f377af-8d7c-4ef5-b9da-a85a23ab9459 button.colab-df-convert');\n",
              "        buttonEl.style.display =\n",
              "          google.colab.kernel.accessAllowed ? 'block' : 'none';\n",
              "\n",
              "        async function convertToInteractive(key) {\n",
              "          const element = document.querySelector('#df-09f377af-8d7c-4ef5-b9da-a85a23ab9459');\n",
              "          const dataTable =\n",
              "            await google.colab.kernel.invokeFunction('convertToInteractive',\n",
              "                                                     [key], {});\n",
              "          if (!dataTable) return;\n",
              "\n",
              "          const docLinkHtml = 'Like what you see? Visit the ' +\n",
              "            '<a target=\"_blank\" href=https://colab.research.google.com/notebooks/data_table.ipynb>data table notebook</a>'\n",
              "            + ' to learn more about interactive tables.';\n",
              "          element.innerHTML = '';\n",
              "          dataTable['output_type'] = 'display_data';\n",
              "          await google.colab.output.renderOutput(dataTable, element);\n",
              "          const docLink = document.createElement('div');\n",
              "          docLink.innerHTML = docLinkHtml;\n",
              "          element.appendChild(docLink);\n",
              "        }\n",
              "      </script>\n",
              "    </div>\n",
              "  </div>\n",
              "  "
            ],
            "text/plain": [
              "   Matricule         Emploi  ...  Emploi_Commerciaux  Emploi_Technicien\n",
              "0       D001  Administratif  ...                   0                  0\n",
              "1       D002  Administratif  ...                   0                  0\n",
              "2       D003  Administratif  ...                   0                  0\n",
              "3       D004  Administratif  ...                   0                  0\n",
              "4       D005  Administratif  ...                   0                  0\n",
              "5       D006     Technicien  ...                   0                  1\n",
              "6       D007     Technicien  ...                   0                  1\n",
              "7       D008     Technicien  ...                   0                  1\n",
              "8       D009     Technicien  ...                   0                  1\n",
              "9       D010     Technicien  ...                   0                  1\n",
              "10      D011    Commerciaux  ...                   1                  0\n",
              "11      D012    Commerciaux  ...                   1                  0\n",
              "12      D013    Commerciaux  ...                   1                  0\n",
              "13      D014    Commerciaux  ...                   1                  0\n",
              "14      D015    Commerciaux  ...                   1                  0\n",
              "\n",
              "[15 rows x 8 columns]"
            ]
          },
          "metadata": {},
          "execution_count": 66
        }
      ]
    },
    {
      "cell_type": "code",
      "source": [
        "# Lancement du test\n",
        "prediction_prod = pd.DataFrame(clf.predict(X_predict))\n",
        "prediction_prod.columns= [\"Prime prediction\"]\n",
        "\n",
        "print(prediction_prod)\n",
        "\n",
        "# Affichage du test\n",
        "prediction_prod.groupby(\"Prime prediction\").size()"
      ],
      "metadata": {
        "id": "UrTCUt9-9sOM",
        "outputId": "bb53106d-54c5-4ea1-b2d3-4ebabaedb80e",
        "colab": {
          "base_uri": "https://localhost:8080/"
        }
      },
      "execution_count": 67,
      "outputs": [
        {
          "output_type": "stream",
          "name": "stdout",
          "text": [
            "    Prime prediction\n",
            "0                  0\n",
            "1                  0\n",
            "2                  0\n",
            "3                  1\n",
            "4                  0\n",
            "5                  0\n",
            "6                  0\n",
            "7                  1\n",
            "8                  0\n",
            "9                  0\n",
            "10                 1\n",
            "11                 0\n",
            "12                 0\n",
            "13                 0\n",
            "14                 0\n"
          ]
        },
        {
          "output_type": "execute_result",
          "data": {
            "text/plain": [
              "Prime prediction\n",
              "0    12\n",
              "1     3\n",
              "dtype: int64"
            ]
          },
          "metadata": {},
          "execution_count": 67
        }
      ]
    },
    {
      "cell_type": "markdown",
      "source": [
        "#Régression linéaire\n",
        "Découvrons comment le machine learning nous permet de comprendre la composition d'une variable quantitative et d'en prédire la valeur."
      ],
      "metadata": {
        "id": "59iVvMfFFMPU"
      }
    },
    {
      "cell_type": "markdown",
      "source": [
        "Dans cette partie, nous allons tâcher de comprendre les liens qui peuvent exister en la performance globale et l'augmentation proposée.\n",
        "\n",
        "Commençons par dresser un graphique avec les deux données qui nous intéressent.\n",
        "Nous remarquons qu'il semble y avoir un lien entre les deux données.\n",
        "Nous pouvons traçer la courbe de ce lien en calculant l'ordonnées à l'origine et le coefficient de progression de la courbe.\n",
        "Mais c'est chronophage et imprécis de le faire manuellement.\n",
        "\n",
        "Ca tombe bien, c'est exactement le principe de la régression linéaire. La machine calcul l'espacement des différents points et dresse une courbe de tendance.\n",
        "Il est ensuite possible de positionner des points sur cette courbe pour prédire des valeurs.\n",
        "Par exemple, il est possible de prédire le montant d'augmentation.\n"
      ],
      "metadata": {
        "id": "can7Dl7mHMFG"
      }
    },
    {
      "cell_type": "code",
      "source": [
        "#Affichage d'un graphique performance globale / Augmentation individuelle\n",
        "sns.scatterplot(x=\"Performance globale\",y=\"Augmentation\", data = df)\n",
        "x_plot = np.linspace(2,5,100)\n",
        "y_plot = x_plot*1.2\n",
        "plt.plot(x_plot, y_plot , color='r')"
      ],
      "metadata": {
        "colab": {
          "base_uri": "https://localhost:8080/",
          "height": 298
        },
        "id": "KKvanjlSFuf1",
        "outputId": "11c31b2d-fd91-418f-910c-cf97471d322a"
      },
      "execution_count": 69,
      "outputs": [
        {
          "output_type": "execute_result",
          "data": {
            "text/plain": [
              "[<matplotlib.lines.Line2D at 0x7f13fed70d90>]"
            ]
          },
          "metadata": {},
          "execution_count": 69
        },
        {
          "output_type": "display_data",
          "data": {
            "image/png": "[encoded data removed]",
            "text/plain": [
              "<Figure size 432x288 with 1 Axes>"
            ]
          },
          "metadata": {
            "needs_background": "light"
          }
        }
      ]
    },
    {
      "cell_type": "markdown",
      "source": [
        "##Construction du modèle de Machine Learning"
      ],
      "metadata": {
        "id": "oldJ9XFUidcQ"
      }
    },
    {
      "cell_type": "code",
      "source": [
        "# Défintion des valeurs cibles et valeurs explicatives.\n",
        "# Nous utilisons l'ensemble de notre population pour la regression.\n",
        "# En effet, la méthode de vérification du test n'implique pas de comparaison entre deux échantillons comme pour la classification.\n",
        "\n",
        "#variables_test_reg = ['Performance globale','Performance hard skills','Performance soft skills']\n",
        "\n",
        "y_reg = df[\"Augmentation\"].values.reshape(-1, 1)\n",
        "X_reg = df[\"Performance globale\"].values.reshape(-1, 1)"
      ],
      "metadata": {
        "id": "DWuPMcVIeBTh"
      },
      "execution_count": 128,
      "outputs": []
    },
    {
      "cell_type": "code",
      "source": [
        "# Import de la bibliothèque Scikit Learn permettant de faire des regression linéaires.\n",
        "from sklearn import linear_model\n",
        "\n",
        "reg = linear_model.LinearRegression()\n",
        "\n",
        "# Exécution de l'entrainement de la regression linéaire\n",
        "reg.fit(X_reg,y_reg)\n",
        "\n",
        "# Affichage du R2, le score de la régression linéaire\n",
        "print(reg.score(X_reg,y_reg))"
      ],
      "metadata": {
        "id": "54Xd2S4hMV8J",
        "colab": {
          "base_uri": "https://localhost:8080/"
        },
        "outputId": "bfe74be8-3b7a-4a85-87d7-fcd11e25242f"
      },
      "execution_count": 129,
      "outputs": [
        {
          "output_type": "stream",
          "name": "stdout",
          "text": [
            "0.890510998237858\n"
          ]
        }
      ]
    },
    {
      "cell_type": "markdown",
      "source": [
        "## Interprétation\n",
        "Le score de la régression linéaire (R2) est de près de 90%.\n",
        "Plus ce score est élevé, plus la régression linéaire est performante.\n",
        "\n",
        "Ainsi, notre modèle permet d'expliquer 90% des données qui lui ont été présentées. Sur 500 individus, il s'agit de 450.\n",
        "Compte tenu de la simplicité du modèle, ce score est très bon.\n",
        "\n",
        "Notre objectif était d'identifier la courbe permettant d'expliquer le lien entre performance individuelle et taux d'augmentation. Nous allons maintenant obtenir les caractéristiques de cette courbe."
      ],
      "metadata": {
        "id": "XtulfCF3iBUv"
      }
    },
    {
      "cell_type": "markdown",
      "source": [
        "Les coefficients sont dans l'ordre de saisie.\n",
        "\n",
        "Ainsi la formule mathématique de notre modèle est :\n",
        "\n",
        "Taux d'augmentation = -1,05 + 1,57 * Performance Globale - 0,06 * Performance hard skills -  0,06 * Performance soft skills\n",
        "\n",
        "Nous pouvons appliquer cette formule pour réaliser des prédictions sur les salariés de notre manager tête en l'air."
      ],
      "metadata": {
        "id": "Jp134_qzlJhk"
      }
    },
    {
      "cell_type": "code",
      "source": [
        "# Affichage des coefficients de la courbe\n",
        "print(reg.coef_)\n",
        "\n",
        "#affichage de l'ordonnée à l'origine\n",
        "print(reg.intercept_)"
      ],
      "metadata": {
        "colab": {
          "base_uri": "https://localhost:8080/"
        },
        "id": "FyujdxRDjhTO",
        "outputId": "a60491e8-c1dc-426d-9718-01a08b85e82f"
      },
      "execution_count": 130,
      "outputs": [
        {
          "output_type": "stream",
          "name": "stdout",
          "text": [
            "[[1.46273244]]\n",
            "[-1.09215051]\n"
          ]
        }
      ]
    },
    {
      "cell_type": "code",
      "source": [
        "X_predict_reg = df_to_predict[\"Performance globale\"].values.reshape(-1, 1)\n",
        "y_reg_predict = reg.predict(X_predict_reg)\n",
        "\n",
        "print(y_reg_predict)"
      ],
      "metadata": {
        "colab": {
          "base_uri": "https://localhost:8080/"
        },
        "id": "0H66OZGUmurt",
        "outputId": "280e65c1-c8e8-4ff3-ccd7-11c8dcdec2c8"
      },
      "execution_count": 133,
      "outputs": [
        {
          "output_type": "stream",
          "name": "stdout",
          "text": [
            "[[3.29604681]\n",
            " [3.29604681]\n",
            " [0.37058193]\n",
            " [6.22151169]\n",
            " [3.29604681]\n",
            " [3.29604681]\n",
            " [1.83331437]\n",
            " [6.22151169]\n",
            " [0.37058193]\n",
            " [3.29604681]\n",
            " [6.22151169]\n",
            " [1.83331437]\n",
            " [4.75877925]\n",
            " [3.29604681]\n",
            " [0.37058193]]\n"
          ]
        }
      ]
    },
    {
      "cell_type": "markdown",
      "source": [
        "##Représentation de la prédiction\n",
        "\n",
        "Affichons la courbe que nous souhaitions prédire."
      ],
      "metadata": {
        "id": "nKOZnCcNoRRZ"
      }
    },
    {
      "cell_type": "code",
      "source": [
        "X_reg = df[\"Performance globale\"]\n",
        "\n",
        "plt.scatter(X_reg, y_reg, color=\"black\")\n",
        "plt.scatter(X_predict_reg, y_reg_predict, color=\"red\")\n",
        "plt.plot(X_predict_reg, y_reg_predict, color ='green')\n",
        "  \n",
        "\n",
        "plt.show()"
      ],
      "metadata": {
        "colab": {
          "base_uri": "https://localhost:8080/",
          "height": 267
        },
        "id": "7tpLnx_uocED",
        "outputId": "0666c808-847e-45b1-8246-af6e81f99b66"
      },
      "execution_count": 138,
      "outputs": [
        {
          "output_type": "display_data",
          "data": {
            "image/png": "[encoded data removed]",
            "text/plain": [
              "<Figure size 432x288 with 1 Axes>"
            ]
          },
          "metadata": {
            "needs_background": "light"
          }
        }
      ]
    },
    {
      "cell_type": "markdown",
      "source": [
        "##Conclusions du test\n",
        "\n",
        "La régression linéaire permet de formuler une règle mathématique représentant la correlation entre plusieurs variables.\n",
        "\n",
        "Ici, notre test est concluant à 90%.\n",
        "Nous constatons en particulier que, puisqu'il s'agit d'une fonction linéaire, il y a un risque d'imprécision sur les performance globale inférieur à deux.\n",
        "Nous aurions pu retirer ces observations pour neutraliser leur effet dans notre modèle.\n",
        "Nous aurions pu utiliser d'autres modèles de régression permettant de tenir comptes de ces approximations."
      ],
      "metadata": {
        "id": "aqcDW1B7skK_"
      }
    }
  ]
}