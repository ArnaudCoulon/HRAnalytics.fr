{
  "nbformat": 4,
  "nbformat_minor": 0,
  "metadata": {
    "colab": {
      "name": "Statistiques_Descriptives.ipynb",
      "provenance": []
    },
    "kernelspec": {
      "display_name": "Python 3",
      "name": "python3"
    },
    "language_info": {
      "name": "python"
    }
  },
  "cells": [
    {
      "cell_type": "code",
      "metadata": {
        "colab": {
          "base_uri": "https://localhost:8080/",
          "height": 223
        },
        "id": "AdOFVEeZ8Lao",
        "outputId": "53d5717a-fd78-4ac4-9347-0fb1522c8bf8"
      },
      "source": [
        "#Import de pandas, biliothèque de gestion de feuilles de données\n",
        "import pandas as pd\n",
        "\n",
        "#Affectation de l'URL du fichier .csv au nom \"data\"\n",
        "data = \"https://raw.githubusercontent.com/ArnaudCoulon/MyPeopleAnalytics/main/Analytics/Statistiques_Descriptives/DataSet_Statistiques_Descriptives%20-%20Salaires_de_base.csv\"\n",
        "\n",
        "\n",
        "#Téléchargement du fichier .csv et lecture par pandas\n",
        "df = pd.read_csv(data)\n",
        "salaires = df[\"Salaires_de_base\"]\n",
        "\n",
        "\n",
        "#Affichage de la taille du tableau\n",
        "print(df.shape)\n",
        "\n",
        "#Affichage des premières lignes\n",
        "df.head()\n"
      ],
      "execution_count": 1,
      "outputs": [
        {
          "output_type": "stream",
          "name": "stdout",
          "text": [
            "(300, 2)\n"
          ]
        },
        {
          "output_type": "execute_result",
          "data": {
            "text/html": [
              "<div>\n",
              "<style scoped>\n",
              "    .dataframe tbody tr th:only-of-type {\n",
              "        vertical-align: middle;\n",
              "    }\n",
              "\n",
              "    .dataframe tbody tr th {\n",
              "        vertical-align: top;\n",
              "    }\n",
              "\n",
              "    .dataframe thead th {\n",
              "        text-align: right;\n",
              "    }\n",
              "</style>\n",
              "<table border=\"1\" class=\"dataframe\">\n",
              "  <thead>\n",
              "    <tr style=\"text-align: right;\">\n",
              "      <th></th>\n",
              "      <th>Matricule</th>\n",
              "      <th>Salaires_de_base</th>\n",
              "    </tr>\n",
              "  </thead>\n",
              "  <tbody>\n",
              "    <tr>\n",
              "      <th>0</th>\n",
              "      <td>A337</td>\n",
              "      <td>1600</td>\n",
              "    </tr>\n",
              "    <tr>\n",
              "      <th>1</th>\n",
              "      <td>A141</td>\n",
              "      <td>1600</td>\n",
              "    </tr>\n",
              "    <tr>\n",
              "      <th>2</th>\n",
              "      <td>A116</td>\n",
              "      <td>1600</td>\n",
              "    </tr>\n",
              "    <tr>\n",
              "      <th>3</th>\n",
              "      <td>A358</td>\n",
              "      <td>1600</td>\n",
              "    </tr>\n",
              "    <tr>\n",
              "      <th>4</th>\n",
              "      <td>A132</td>\n",
              "      <td>1600</td>\n",
              "    </tr>\n",
              "  </tbody>\n",
              "</table>\n",
              "</div>"
            ],
            "text/plain": [
              "  Matricule  Salaires_de_base\n",
              "0      A337              1600\n",
              "1      A141              1600\n",
              "2      A116              1600\n",
              "3      A358              1600\n",
              "4      A132              1600"
            ]
          },
          "metadata": {},
          "execution_count": 1
        }
      ]
    },
    {
      "cell_type": "code",
      "metadata": {
        "colab": {
          "base_uri": "https://localhost:8080/"
        },
        "id": "FiDiZrXnJX38",
        "outputId": "452f25b8-3c96-41ae-b40a-581da540a8fb"
      },
      "source": [
        "#Affichage de la valeur minimale de la variable \"Salaires_de_base\"\n",
        "print(\"Le salaire de base minimum est\",min(salaires),\"€\")\n",
        "\n",
        "#Affichage de la valeur maximale de la variable \"Salaires_de_base\"\n",
        "print(\"Le salaire de base maximum est\",max(salaires),\"€\")"
      ],
      "execution_count": 2,
      "outputs": [
        {
          "output_type": "stream",
          "name": "stdout",
          "text": [
            "Le salaire de base minimum est 1600 €\n",
            "Le salaire de base maximum est 12000 €\n"
          ]
        }
      ]
    },
    {
      "cell_type": "code",
      "metadata": {
        "colab": {
          "base_uri": "https://localhost:8080/"
        },
        "id": "R8HVc590itWY",
        "outputId": "ca0d2951-1534-4a36-97ea-06263f59da90"
      },
      "source": [
        "#Calcul manuel de la moyenne des salaires de base\n",
        "mean = sum(salaires)/len(salaires)\n",
        "\n",
        "#Affichage de la moyenne de la variable \"Salaire_de_base\" stockée dans la variable mean\n",
        "print(\"La moyenne des salaires de base est\",mean,\"€\")"
      ],
      "execution_count": 3,
      "outputs": [
        {
          "output_type": "stream",
          "name": "stdout",
          "text": [
            "La moyenne des salaires de base est 2107.3333333333335 €\n"
          ]
        }
      ]
    },
    {
      "cell_type": "code",
      "metadata": {
        "colab": {
          "base_uri": "https://localhost:8080/"
        },
        "id": "PvGkhHIGmVfI",
        "outputId": "684edeac-c461-4763-c3de-b7881d913e15"
      },
      "source": [
        "#C'est un peu laborieux de calculer systématique la moyenne comme étant \"somme des individus\"/\"nombre d'individu\"\n",
        "#On peut utiliser une bibliothèque : numpy\n",
        "import numpy\n",
        "\n",
        "mean_stat = numpy.mean(salaires)\n",
        "\n",
        "print(\"La moyenne des salaires de base est\",mean_stat,\"€\")"
      ],
      "execution_count": 4,
      "outputs": [
        {
          "output_type": "stream",
          "name": "stdout",
          "text": [
            "La moyenne des salaires de base est 2107.3333333333335 €\n"
          ]
        }
      ]
    },
    {
      "cell_type": "code",
      "metadata": {
        "colab": {
          "base_uri": "https://localhost:8080/"
        },
        "id": "ZwuNuiH3lCys",
        "outputId": "98c99d76-dc8d-456e-d82e-a9683eac8ec3"
      },
      "source": [
        "#Calcul de la médiane\n",
        "med = numpy.median(salaires)\n",
        "\n",
        "\"\"\"\n",
        "La moyenne est supérieure à la médiane car nous avons des valeurs extrêmes importantes.\n",
        "Il pourrait s'agir des  salaires des dirigeants par exemple.\n",
        "Il est important d'avoir en tête cet distninction entre salaire et médiane\n",
        "\"\"\"\n",
        "\n",
        "print(\"la médiane des salaires de base est\",med,\"€\")"
      ],
      "execution_count": 10,
      "outputs": [
        {
          "output_type": "stream",
          "name": "stdout",
          "text": [
            "la médiane des salaires de base est 2100.0 €\n"
          ]
        }
      ]
    },
    {
      "cell_type": "code",
      "metadata": {
        "colab": {
          "base_uri": "https://localhost:8080/"
        },
        "id": "I0UWGuANmI_4",
        "outputId": "08998cac-1f3c-46d3-834e-a56b7668f602"
      },
      "source": [
        "#La médiane est un quantile particulier (le quantile 0,5)\n",
        "#Il est possible de calculer des valeurs telles \n",
        "#Schéma des quantiles\n",
        "#q correspond à la position attendue dans la distribution en %\n",
        "#A noter, si q=0.5 il s'agit de la médiane.\n",
        "\n",
        "quantile = numpy.quantile([salaires] ,q=0.25)\n",
        "print(\"25% des valeurs sont supérieures à\",quantile,\"c'est le 1er quartile\")"
      ],
      "execution_count": 6,
      "outputs": [
        {
          "output_type": "stream",
          "name": "stdout",
          "text": [
            "25% des valeurs sont supérieures à 1900.0 c'est le 1er quartile\n"
          ]
        }
      ]
    },
    {
      "cell_type": "code",
      "metadata": {
        "colab": {
          "base_uri": "https://localhost:8080/",
          "height": 300
        },
        "id": "M0KNQfcS_hxL",
        "outputId": "a7a436c3-8023-46a7-b95c-e06ea8c2b610"
      },
      "source": [
        "#Calcul du mode\n",
        "\"\"\"\n",
        "Le mode est un modèle moins connu que les précédent. Il permet d'identifier la valeur la plus fréquente parmi mes individus.\n",
        "Concrètement, le mode nous donnera le montant de salaire de base le plus fréquent parmi nos données.\n",
        "Il est très simple à déterminer puisqu'il suffit de regarder un tableau des fréquence ou un graphique de distribution pour l'identifier.\n",
        "Le mode fonctionne avec des données quantitative ou qualitative. Il vous permettrait ainsi de connaître l'emploi le plus représenté dans votre population par exemple.\n",
        "\"\"\"\n",
        "\n",
        "salaires.hist()\n",
        "\n",
        "\"\"\"\n",
        "Une valeur se dégage aux alentours de 2 100€, calculons la.\n",
        "numpy ne prévoit pas de formule pour calculer le mode. Nous allons donc utiliser la bibliothèque scipy, incontournable pour les datas scientists.\n",
        "\n",
        "\"\"\"\n",
        "from scipy import stats\n",
        "\n",
        "mode = stats.mode(salaires)\n",
        "\n",
        "print(mode)\n",
        "#scipy nous donne à la fois le mode et le nombre d'occurence de la valeur du mode. Nous pouvons sélectionner uniquement le mode en appelant la première donnée fournie par le calcul\n",
        "print(mode[0])"
      ],
      "execution_count": 7,
      "outputs": [
        {
          "output_type": "stream",
          "name": "stdout",
          "text": [
            "ModeResult(mode=array([2100]), count=array([60]))\n",
            "[2100]\n"
          ]
        },
        {
          "output_type": "display_data",
          "data": {
            "image/png": "[encoded data removed]",
            "text/plain": [
              "<Figure size 432x288 with 1 Axes>"
            ]
          },
          "metadata": {
            "needs_background": "light"
          }
        }
      ]
    },
    {
      "cell_type": "code",
      "metadata": {
        "id": "F6aXI55I_08P",
        "colab": {
          "base_uri": "https://localhost:8080/"
        },
        "outputId": "4a8a3840-2d45-4ef6-e1de-572bfd20eeb4"
      },
      "source": [
        "#Variance et écart type\n",
        "#Ces modèles de dispersion permettent de connaître les écarts à la moyenne. \n",
        "#La variance est la moyenne du carré des écarts à la moyenne.\n",
        "#L'écart type est la racine carrée de la variance. Cette valeur, plus intelligible est souvent privilégiée dans les analyses.\n",
        "\n",
        "variance = numpy.var(salaires)\n",
        "print(\"La variance est de\",variance)\n",
        "\n",
        "#ddof=1 utilise le modèle \n",
        "ecart_type = numpy.std(salaires, ddof=1)\n",
        "print(\"l'écart type est de\",ecart_type)"
      ],
      "execution_count": 11,
      "outputs": [
        {
          "output_type": "stream",
          "name": "stdout",
          "text": [
            "La variance est de 387412.88888888893\n",
            "l'écart type est de 623.4649823121214\n"
          ]
        }
      ]
    },
    {
      "cell_type": "code",
      "metadata": {
        "id": "r54KgVccu13H",
        "colab": {
          "base_uri": "https://localhost:8080/",
          "height": 300
        },
        "outputId": "8db9a394-54ed-4ec7-b8ab-f512a50fc252"
      },
      "source": [
        "#La plupart de ses valeurs sont incontournables à découverte d'un DataSet. \n",
        "#Il existe donc des formule permettant d'obtenir un récapitulatif rapide des données qui nous intéressent\n",
        "df.describe()"
      ],
      "execution_count": 9,
      "outputs": [
        {
          "output_type": "execute_result",
          "data": {
            "text/html": [
              "<div>\n",
              "<style scoped>\n",
              "    .dataframe tbody tr th:only-of-type {\n",
              "        vertical-align: middle;\n",
              "    }\n",
              "\n",
              "    .dataframe tbody tr th {\n",
              "        vertical-align: top;\n",
              "    }\n",
              "\n",
              "    .dataframe thead th {\n",
              "        text-align: right;\n",
              "    }\n",
              "</style>\n",
              "<table border=\"1\" class=\"dataframe\">\n",
              "  <thead>\n",
              "    <tr style=\"text-align: right;\">\n",
              "      <th></th>\n",
              "      <th>Salaires_de_base</th>\n",
              "    </tr>\n",
              "  </thead>\n",
              "  <tbody>\n",
              "    <tr>\n",
              "      <th>count</th>\n",
              "      <td>300.000000</td>\n",
              "    </tr>\n",
              "    <tr>\n",
              "      <th>mean</th>\n",
              "      <td>2107.333333</td>\n",
              "    </tr>\n",
              "    <tr>\n",
              "      <th>std</th>\n",
              "      <td>623.464982</td>\n",
              "    </tr>\n",
              "    <tr>\n",
              "      <th>min</th>\n",
              "      <td>1600.000000</td>\n",
              "    </tr>\n",
              "    <tr>\n",
              "      <th>25%</th>\n",
              "      <td>1900.000000</td>\n",
              "    </tr>\n",
              "    <tr>\n",
              "      <th>50%</th>\n",
              "      <td>2100.000000</td>\n",
              "    </tr>\n",
              "    <tr>\n",
              "      <th>75%</th>\n",
              "      <td>2200.000000</td>\n",
              "    </tr>\n",
              "    <tr>\n",
              "      <th>max</th>\n",
              "      <td>12000.000000</td>\n",
              "    </tr>\n",
              "  </tbody>\n",
              "</table>\n",
              "</div>"
            ],
            "text/plain": [
              "       Salaires_de_base\n",
              "count        300.000000\n",
              "mean        2107.333333\n",
              "std          623.464982\n",
              "min         1600.000000\n",
              "25%         1900.000000\n",
              "50%         2100.000000\n",
              "75%         2200.000000\n",
              "max        12000.000000"
            ]
          },
          "metadata": {},
          "execution_count": 9
        }
      ]
    }
  ]
}