{
  "nbformat": 4,
  "nbformat_minor": 0,
  "metadata": {
    "colab": {
      "name": "Statistiques_Descriptives.ipynb",
      "provenance": []
    },
    "kernelspec": {
      "display_name": "Python 3",
      "name": "python3"
    },
    "language_info": {
      "name": "python"
    }
        {
      "cell_type": "code",
      "metadata": {
        "colab": {
          "base_uri": "https://localhost:8080/",
          "height": 223
        },
        "id": "AdOFVEeZ8Lao",
        "outputId": "db9497ee-ddee-4c76-f48a-29576ca1dec9"
      },
      "source": [
        "#Import de pandas, biliothèque de gestion de feuilles de données\n",
        "import pandas as pd\n",
        "\n",
        "#Affectation de l'URL du fichier .csv au nom \"data\"\n",
        "data = \"https://raw.githubusercontent.com/ArnaudCoulon/MyPeopleAnalytics/main/Analytics/Statistiques_Descriptives/DataSet_Statistiques_Descriptives%20-%20Salaires_de_base.csv\"\n",
        "\n",
        "\n",
        "#Téléchargement du fichier .csv et lecture par pandas\n",
        "df = pd.read_csv(data)\n",
        "salaires = df[\"Salaires_de_base\"]\n",
        "\n",
        "\n",
        "#Affichage de la taille du tableau\n",
        "print(df.shape)\n",
        "\n",
        "#Affichage des premières lignes\n",
        "df.head()\n"
      ],
      "execution_count": null,
      "outputs": [
        {
          "output_type": "stream",
          "name": "stdout",
          "text": [
            "(300, 2)\n"
          ]
        },
        {
          "output_type": "execute_result",
          "data": {
            "text/html": [
              "<div>\n",
              "<style scoped>\n",
              "    .dataframe tbody tr th:only-of-type {\n",
              "        vertical-align: middle;\n",
              "    }\n",
              "\n",
              "    .dataframe tbody tr th {\n",
              "        vertical-align: top;\n",
              "    }\n",
              "\n",
              "    .dataframe thead th {\n",
              "        text-align: right;\n",
              "    }\n",
              "</style>\n",
              "<table border=\"1\" class=\"dataframe\">\n",
              "  <thead>\n",
              "    <tr style=\"text-align: right;\">\n",
              "      <th></th>\n",
              "      <th>Matricule</th>\n",
              "      <th>Salaires_de_base</th>\n",
              "    </tr>\n",
              "  </thead>\n",
              "  <tbody>\n",
              "    <tr>\n",
              "      <th>0</th>\n",
              "      <td>A337</td>\n",
              "      <td>1600</td>\n",
              "    </tr>\n",
              "    <tr>\n",
              "      <th>1</th>\n",
              "      <td>A141</td>\n",
              "      <td>1600</td>\n",
              "    </tr>\n",
              "    <tr>\n",
              "      <th>2</th>\n",
              "      <td>A116</td>\n",
              "      <td>1600</td>\n",
              "    </tr>\n",
              "    <tr>\n",
              "      <th>3</th>\n",
              "      <td>A358</td>\n",
              "      <td>1600</td>\n",
              "    </tr>\n",
              "    <tr>\n",
              "      <th>4</th>\n",
              "      <td>A132</td>\n",
              "      <td>1600</td>\n",
              "    </tr>\n",
              "  </tbody>\n",
              "</table>\n",
              "</div>"
            ],
            "text/plain": [
              "  Matricule  Salaires_de_base\n",
              "0      A337              1600\n",
              "1      A141              1600\n",
              "2      A116              1600\n",
              "3      A358              1600\n",
              "4      A132              1600"
            ]
          },
          "metadata": {},
          "execution_count": 18
        }
      ]
    },
    {
      "cell_type": "code",
      "metadata": {
        "colab": {
          "base_uri": "https://localhost:8080/"
        },
        "id": "FiDiZrXnJX38",
        "outputId": "93adef5a-dc47-4447-d3f2-eb0108a2531c"
      },
      "source": [
        "#Affichage de la valeur minimale de la variable \"Salaires_de_base\"\n",
        "print(\"Le salaire de base minimum est\",min(salaires),\"€\")\n",
        "\n",
        "#Affichage de la valeur maximale de la variable \"Salaires_de_base\"\n",
        "print(\"Le salaire de base maximum est\",max(salaires),\"€\")"
      ],
      "execution_count": null,
      "outputs": [
        {
          "output_type": "stream",
          "name": "stdout",
          "text": [
            "Le salaire de base minimum est 1600 €\n",
            "Le salaire de base maximum est 2700 €\n"
          ]
        }
      ]
    },
    {
      "cell_type": "code",
      "metadata": {
        "colab": {
          "base_uri": "https://localhost:8080/"
        },
        "id": "R8HVc590itWY",
        "outputId": "b936fd90-e10f-413f-89d4-ec9cec400731"
      },
      "source": [
        "#Calcul manuel de la moyenne des salaires de base\n",
        "mean = sum(salaires)/len(salaires)\n",
        "\n",
        "#Affichage de la moyenne de la variable \"Salaire_de_base\" stockée dans la variable mean\n",
        "print(\"La moyenne des salaires de base est\",mean,\"€\")\n",
        "\n",
        "\n",
        "#C'est un peu laborieux de calculer systématique la moyenne comme étant \"somme des individus\"/\"nombre d'individu\"\n",
        "#On peut utiliser une bibliothèque dédiée aux calculs mathématiques : scipy\n",
        "#Elle contient le packet \"stats\"  permettant de réaliser des statistiques descriptives avancées sans devoir réécrire les formules de calcul.\n",
        "import numpy\n",
        "\n",
        "mean_stat = numpy.mean(salaires)\n",
        "print(\"La moyenne des salaires de base est\",mean_stat,\"€\")"
      ],
      "execution_count": null,
      "outputs": [
        {
          "output_type": "stream",
          "name": "stdout",
          "text": [
            "La moyenne des salaires de base est 2076.3333333333335 €\n",
            "La moyenne des salaires de base est 2076.3333333333335 €\n"
          ]
        }
      ]
    },
    {
      "cell_type": "code",
      "metadata": {
        "colab": {
          "base_uri": "https://localhost:8080/"
        },
        "id": "ZwuNuiH3lCys",
        "outputId": "2ae3858a-1161-4a69-89d1-6147185691c8"
      },
      "source": [
        "#Calcul de la médiane\n",
        "med = numpy.median(salaires)\n",
        "\n",
        "\"\"\"\n",
        "La moyenne est supérieure à la médiane car nous avons des valeurs extrêmes importantes.\n",
        "Il pourrait s'agir des  salaires des dirigeants par exemple.\n",
        "Il est important d'avoir en tête cet distninction entre salaire et médiane\n",
        "\"\"\"\n",
        "\n",
        "print(\"la médiane des salaires de base  est\",med,\"€\")"
      ],
      "execution_count": null,
      "outputs": [
        {
          "output_type": "stream",
          "name": "stdout",
          "text": [
            "la médiane des salaires de base  est 2100.0 €\n"
          ]
        }
      ]
    },
    {
      "cell_type": "code",
      "metadata": {
        "colab": {
          "base_uri": "https://localhost:8080/",
          "height": 130
        },
        "id": "I0UWGuANmI_4",
        "outputId": "8453019d-8451-4b90-ddea-1cb84b230835"
      },
      "source": [
        "#La médiane est un quantile particulier.\n",
        "#Il est possible de calculer des valeurs telles \n",
        "#Schéma des quantiles\n",
        "#q correspond à la position attendue dans la distribution en %\n",
        "#A noter, si q=0.5 il s'agit de la médiane.\n",
        "\n",
        "quantile = numpy.quantile(salaires],q=0.25)\n",
        "print(\"25% des valeurs sont supérieures à\",quantile,\"c'est le 1er quartile\")"
      ],
      "execution_count": null,
      "outputs": [
        {
          "output_type": "error",
          "ename": "SyntaxError",
          "evalue": "ignored",
          "traceback": [
            "\u001b[0;36m  File \u001b[0;32m\"<ipython-input-6-4513554ee036>\"\u001b[0;36m, line \u001b[0;32m7\u001b[0m\n\u001b[0;31m    quantile = numpy.quantile(salaires],q=0.25)\u001b[0m\n\u001b[0m                                      ^\u001b[0m\n\u001b[0;31mSyntaxError\u001b[0m\u001b[0;31m:\u001b[0m invalid syntax\n"
          ]
        }
      ]
    },
    {
      "cell_type": "code",
      "metadata": {
        "colab": {
          "base_uri": "https://localhost:8080/",
          "height": 300
        },
        "id": "M0KNQfcS_hxL",
        "outputId": "a012fd43-bb56-4abd-fb3f-428a7d8e2b5f"
      },
      "source": [
        "#Calcul du mode\n",
        "\"\"\"\n",
        "Le mode est un modèle moins connu que les précédent. Il permet d'identifier la valeur la plus fréquente parmi mes individus.\n",
        "Concrètement, le mode nous donnera le montant de salaire de base le plus fréquent parmi nos données.\n",
        "Il est très simple à déterminer puisqu'il suffit de regarder un tableau des fréquence ou un graphique de distribution pour l'identifier.\n",
        "Le mode fonctionne avec des données quantitative ou qualitative. Il vous permettrait ainsi de connaître l'emploi le plus représenté dans votre population par exemple.\n",
        "\"\"\"\n",
        "\n",
        "salaires.hist()\n",
        "\n",
        "\"\"\"\n",
        "Une valeur se dégage clairement aux alentours de 2 100€, calculons la.\n",
        "numpy ne prévoit pas de formule pour calculer le mode. Nous allons donc utiliser la bibliothèque scipy, incontournable pour les datas scientists.\n",
        "\n",
        "\"\"\"\n",
        "from scipy import stats\n",
        "\n",
        "mode = stats.mode(salaires)\n",
        "\n",
        "print(mode)\n",
        "#scipy nous donne à la fois le mode et le nombre d'occurence de la valeur du mode. Nous pouvons sélectionner uniquement le mode en appelant la première donnée fournie par le calcul\n",
        "print(mode[0])"
      ],
      "execution_count": null,
      "outputs": [
        {
          "output_type": "stream",
          "name": "stdout",
          "text": [
            "ModeResult(mode=array([2100]), count=array([60]))\n",
            "[2100]\n"
          ]
        },
        {
          "output_type": "display_data",
          "data": {
            "image/png": "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\n",
            "text/plain": [
              "<Figure size 432x288 with 1 Axes>"
            ]
          },
          "metadata": {
            "needs_background": "light"
          }
        }
      ]
    },
    {
      "cell_type": "code",
      "metadata": {
        "id": "F6aXI55I_08P",
        "colab": {
          "base_uri": "https://localhost:8080/"
        },
        "outputId": "a5e60abd-28c7-4c1b-8e68-d4446e0fda84"
      },
      "source": [
        "#Variance et écart type\n",
        "#Ces modèles de dispersion permettent de connaître les écarts à la moyenne. \n",
        "#La variance est la moyenne du carré des écarts à la moyenne.\n",
        "#L'écart type est la racine carrée de la variance. Cette valeur, plus intelligible est souvent privilégiée dans les analyses.\n",
        "\n",
        "variance = numpy.var(salaires)\n",
        "print(variance)\n",
        "\n",
        "ecart_type = numpy.std(salaires)\n",
        "print(ecart_type)"
      ],
      "execution_count": null,
      "outputs": [
        {
          "output_type": "stream",
          "name": "stdout",
          "text": [
            "61406.55555555555\n",
            "247.8034615487757\n"
          ]
        }
      ]
    },
    {
      "cell_type": "code",
      "metadata": {
        "id": "r54KgVccu13H",
        "colab": {
          "base_uri": "https://localhost:8080/",
          "height": 300
        },
        "outputId": "612a9f9d-47c5-4f99-c7b5-d1e5513d65c9"
      },
      "source": [
        "#La plupart de ses valeurs sont incontournables à découverte d'un DataSet. \n",
        "#Il existe donc des formule permettant d'obtenir un récapitulatif rapide des données qui nous intéressent\n",
        "df.describe()"
      ],
      "execution_count": null,
      "outputs": [
        {
          "output_type": "execute_result",
          "data": {
            "text/html": [
              "<div>\n",
              "<style scoped>\n",
              "    .dataframe tbody tr th:only-of-type {\n",
              "        vertical-align: middle;\n",
              "    }\n",
              "\n",
              "    .dataframe tbody tr th {\n",
              "        vertical-align: top;\n",
              "    }\n",
              "\n",
              "    .dataframe thead th {\n",
              "        text-align: right;\n",
              "    }\n",
              "</style>\n",
              "<table border=\"1\" class=\"dataframe\">\n",
              "  <thead>\n",
              "    <tr style=\"text-align: right;\">\n",
              "      <th></th>\n",
              "      <th>Salaires_de_base</th>\n",
              "    </tr>\n",
              "  </thead>\n",
              "  <tbody>\n",
              "    <tr>\n",
              "      <th>count</th>\n",
              "      <td>300.000000</td>\n",
              "    </tr>\n",
              "    <tr>\n",
              "      <th>mean</th>\n",
              "      <td>2076.333333</td>\n",
              "    </tr>\n",
              "    <tr>\n",
              "      <th>std</th>\n",
              "      <td>248.217503</td>\n",
              "    </tr>\n",
              "    <tr>\n",
              "      <th>min</th>\n",
              "      <td>1600.000000</td>\n",
              "    </tr>\n",
              "    <tr>\n",
              "      <th>25%</th>\n",
              "      <td>1900.000000</td>\n",
              "    </tr>\n",
              "    <tr>\n",
              "      <th>50%</th>\n",
              "      <td>2100.000000</td>\n",
              "    </tr>\n",
              "    <tr>\n",
              "      <th>75%</th>\n",
              "      <td>2200.000000</td>\n",
              "    </tr>\n",
              "    <tr>\n",
              "      <th>max</th>\n",
              "      <td>2700.000000</td>\n",
              "    </tr>\n",
              "  </tbody>\n",
              "</table>\n",
              "</div>"
            ],
            "text/plain": [
              "       Salaires_de_base\n",
              "count        300.000000\n",
              "mean        2076.333333\n",
              "std          248.217503\n",
              "min         1600.000000\n",
              "25%         1900.000000\n",
              "50%         2100.000000\n",
              "75%         2200.000000\n",
              "max         2700.000000"
            ]
          },
          "metadata": {},
          "execution_count": 14
        }
      ]
    }
  ]
}
